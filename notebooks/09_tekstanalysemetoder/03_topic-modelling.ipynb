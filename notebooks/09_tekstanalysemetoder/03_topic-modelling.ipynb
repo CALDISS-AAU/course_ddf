{
 "cells": [
  {
   "cell_type": "markdown",
   "metadata": {},
   "source": [
    "# Introduktion til topic modelling med latent dirichlet allocation (LDA)\n",
    "\n",
    "Indtil videre har vi kigget på teknikker, der hjælper os til at få et overblik over ordene, som indgår i data. Disse teknikker egner sig godt til det, som man kalder \"nøgleordsanalyse\"; altså en analyse af de mest centrale ord/termer i et corpus.\n",
    "\n",
    "Vi kan dog også inddrage teknikker til at hjælpe os identificere umiddelbare mønstre og temaer i en samling af tekster.\n",
    "\n",
    "\"Latent Dirichlet Allocaltion\" (LDA) ([Blei, David M. 2012](http://www.cs.columbia.edu/~blei/papers/Blei2012.pdf)): - en af de mere populære \"topic models\" - er en måde at anvende usuperviseret maskinlæring til at finde umiddelbare temaer i en tekst.\n",
    "\n",
    "**Fordele**\n",
    "- Giver overblik over umiddelbare tematiske mønstre i data\n",
    "- Hjælper til at inddele og kategorisere tekstdata\n",
    "\n",
    "**Ulemper**\n",
    "- Fremgangsmåden præget af vilkårlighed (hvor mange topics giver mening at finde?)\n",
    "- Sårbar over for små ændringer i datahåndtering (hvorvidt man bruger lemmatizer, hvilke stopord man frasorterer)\n",
    "- Ringe ekstern validitet: Modellen siger noget om den pågældende tekstsamling, men kan i ringe grade anvendes på andre tekstdata\n",
    "\n",
    "\n",
    "## Hvordan fungerer topic modelling (LDA)?\n",
    "\n",
    "LDA er en såkaldt \"bag-of-words\" model. Det vil først og fremmest sige, at den ikke tager højde for ordets sætningskontekst, men blot behandler en tekst som en samling af enkeltord.\n",
    "\n",
    "![bow](.././img/bow.jpeg)\n",
    "\n",
    "*[ProgrammerSought.com 2021](https://www.programmersought.com/article/4304366575/)*\n",
    "\n",
    "### LDA kort fortal\n",
    "\n",
    "![lda](.././img/lda.png)\n",
    "\n",
    "- Det antages, at der eksisterer et vis antal \"topics\", der går igen på tværs af alle dokumenter i et corpus\n",
    "- Et \"topic\" er en sandsynlighedsfordeling over en række ord; en samling af ord behæftet med en hvis sandsynlighed\n",
    "- Hvert dokument antages at være sammensat af de forskellige topics; hvert topic er behæftet med en hvis sandsynlighed for at optræde i dokumentet\n",
    "- Ordene i et dokument antages at være \"trukket\" af de forskellige topics\n",
    "\n",
    "Lad os fx antage, at reddit kommentarer består af tre topics: konspiration, forretning og politik. Antagelsen i LDA er så, at en reddit kommentar, som nedenstående, er dannet ud fra en fordeling af disse topics:\n",
    "\n",
    "> Der er en ikke helt ude konspirations teori der bygger på at de store firmaer støttede det så de slap for at blive beskattet, ved at distrahere venstrefløjen.\n",
    "\n",
    "Lad os antage, at en topic model betragter denne kommentar som værende 40% konspiration, 25% forretning og 35% politik. Ordene i kommentaren antages at være taget fra denne fordeling af topics. I hvert topic er visse ord mere sandsynlige end andre (\"konspiration\" mere sandynsligt i konspirations-topic end forretning-topic, \"venstrefløjen\" mere sandsynligt i politik-topic end konspirations-topic, osv.).\n",
    "\n",
    "\n",
    "### LDA som en \"generativ probabilitisk model\"\n",
    "\n",
    "LDA er en \"generativ probabilitisk model\". Det vil sige, at data antages at blive dannet af en generativ proces over en sandsynlighedsfordeling, som er sammensat af *både* observerede og uobserverede variable ([Blei, David M. 2012](http://www.cs.columbia.edu/~blei/papers/Blei2012.pdf)).\n",
    "\n",
    "De observerede variable for LDA er ordene i teksterne, mens de uoverserverede variable er de topics, som dokumenterne antages at være dannet af.\n",
    "\n",
    "Sandsynlighedsfordelingen over ord og topics i en samling dokumenter noteres som følgende:\n",
    "\n",
    "$$\n",
    "p(\\beta_{1:K}, \\theta_{1:D}, z_{1:D}, w_{1:d})\n",
    "$$\n",
    "$$\n",
    "= \\prod_{i=1}^{K}p(\\beta_i)\\prod_{d=1}^{D}p(\\theta_d)\\Big(\\prod_{n=1}^{N}p(z_{d,n}|\\theta_d)p(w_{d,n}|\\beta_{1:K},z_{d,n})\\Big)\n",
    "$$\n",
    "\n",
    "- $\\beta_{1:K}$ er topics,  hvor hvert $\\beta_{k}$ er en sandsynlighedsfordeling af ord\n",
    "- $\\theta_{d,k}$ er topic-andel for topic $k$ for tekst $d$\n",
    "- $z_{d,n}$ er tildeling af topic for $n$ ord i tekst $d$\n",
    "- $w_{d,n}$ er observerede ord $n$ for dokument $d$\n",
    "\n",
    "\n",
    "Da topic-strukturen er *uobserveret* variabel, kan modellen i sig selv ikke give svar på, hvilke emner, som der findes. Vi kan dog med modellen definere topic-strukturen ved at specificere et antal topics, hvorefter modellen så kan foretage beregningen for ords sandsynligheder i de enkelte topics og sandsynlighederne for topics i dokumenterne.\n",
    "\n",
    "Der findes dog forskellige teknikker, der forsøger at løse problemet om at finde den optimale eller mest passende topic struktur."
   ]
  },
  {
   "cell_type": "markdown",
   "metadata": {},
   "source": [
    "## Brug af topic models i Python\n",
    "\n",
    "I det følgende ser vi på, hvordan vi kan lave en topic model. Vi bruger pakken [`gensim`](https://radimrehurek.com/gensim/) til formålet.\n",
    "\n",
    "`gensim` er en meget udbredt pakke til topic modelling. Dog er den ikke udviklet til at være kompatibel med `pandas`, hvorfor vi er nødt til at konvertere data til at være kompatibel med `gensim`.\n",
    "\n",
    "Den datastruktur, som `gensim` skal bruge, er et \"gensim corpus\". Et \"gensim corpus\" er en liste af token-optællinger for hver tekst i et corpus. Sådan et corpus dannes ved først at konvertere hvert token i corpus til et numerisk id (hvert token i corpus får unikt numerisk id). Derefter tælles antallet af tokens per tekst, og samles i tuples bestående af det numeriske id og antal hændelser i teksten.\n",
    "\n",
    "### Fra tekster til gensim corpus\n",
    "\n",
    "Til at starte med, skal vi bruge lister af tokens for hver tekst. Disse har vi allerede i vores dataframe (den, som ikke er konverteret til tidy). Vi kan derfor tage disse lister af tokens ud og arbejde med dem for sig."
   ]
  },
  {
   "cell_type": "code",
   "execution_count": 5,
   "metadata": {},
   "outputs": [
    {
     "data": {
      "text/html": [
       "<div>\n",
       "<style scoped>\n",
       "    .dataframe tbody tr th:only-of-type {\n",
       "        vertical-align: middle;\n",
       "    }\n",
       "\n",
       "    .dataframe tbody tr th {\n",
       "        vertical-align: top;\n",
       "    }\n",
       "\n",
       "    .dataframe thead th {\n",
       "        text-align: right;\n",
       "    }\n",
       "</style>\n",
       "<table border=\"1\" class=\"dataframe\">\n",
       "  <thead>\n",
       "    <tr style=\"text-align: right;\">\n",
       "      <th></th>\n",
       "      <th>created_at</th>\n",
       "      <th>id</th>\n",
       "      <th>full_text</th>\n",
       "      <th>is_quote_status</th>\n",
       "      <th>retweet_count</th>\n",
       "      <th>favorite_count</th>\n",
       "      <th>favorited</th>\n",
       "      <th>retweeted</th>\n",
       "      <th>is_retweet</th>\n",
       "      <th>hashtags</th>\n",
       "      <th>urls</th>\n",
       "      <th>user_followers_count</th>\n",
       "      <th>party</th>\n",
       "      <th>tokens</th>\n",
       "      <th>dominant_topic_dict</th>\n",
       "    </tr>\n",
       "  </thead>\n",
       "  <tbody>\n",
       "    <tr>\n",
       "      <th>0</th>\n",
       "      <td>2020-10-21 14:48:39+00:00</td>\n",
       "      <td>1318927184111730700</td>\n",
       "      <td>Er på vej i miljøministeriet for at foreslå at...</td>\n",
       "      <td>False</td>\n",
       "      <td>13</td>\n",
       "      <td>47</td>\n",
       "      <td>False</td>\n",
       "      <td>False</td>\n",
       "      <td>False</td>\n",
       "      <td>['dkgreen']</td>\n",
       "      <td>[]</td>\n",
       "      <td>4064</td>\n",
       "      <td>Alternativet</td>\n",
       "      <td>[vej, miljøministerium, biodiversitetsmål, Dan...</td>\n",
       "      <td>{'dominant_topic': 4, 'topic_probability': 0.8...</td>\n",
       "    </tr>\n",
       "    <tr>\n",
       "      <th>1</th>\n",
       "      <td>2019-06-02 20:03:20+00:00</td>\n",
       "      <td>1135275725592891400</td>\n",
       "      <td>@nielscallesoe @helenehagel @alternativet_ Det...</td>\n",
       "      <td>False</td>\n",
       "      <td>0</td>\n",
       "      <td>1</td>\n",
       "      <td>False</td>\n",
       "      <td>False</td>\n",
       "      <td>False</td>\n",
       "      <td>[]</td>\n",
       "      <td>[]</td>\n",
       "      <td>4064</td>\n",
       "      <td>Alternativet</td>\n",
       "      <td>[æalternativ, nettofordel, klima, boring, Nord...</td>\n",
       "      <td>{'dominant_topic': 8, 'topic_probability': 0.8...</td>\n",
       "    </tr>\n",
       "    <tr>\n",
       "      <th>2</th>\n",
       "      <td>2016-03-10 09:07:52+00:00</td>\n",
       "      <td>707855478320189400</td>\n",
       "      <td>Vi står sammen, smiler Løkke på KL-topmøde og ...</td>\n",
       "      <td>False</td>\n",
       "      <td>13</td>\n",
       "      <td>14</td>\n",
       "      <td>False</td>\n",
       "      <td>False</td>\n",
       "      <td>False</td>\n",
       "      <td>['dkpol', 'KLtop16']</td>\n",
       "      <td>[]</td>\n",
       "      <td>4064</td>\n",
       "      <td>Alternativet</td>\n",
       "      <td>[Løkke, KL-topmøde, milliard, kommune, æaltern...</td>\n",
       "      <td>{'dominant_topic': 0, 'topic_probability': 0.8...</td>\n",
       "    </tr>\n",
       "    <tr>\n",
       "      <th>3</th>\n",
       "      <td>2019-04-07 19:59:03+00:00</td>\n",
       "      <td>1114980930467315700</td>\n",
       "      <td>@AnnaBylov @EU_Spring @rasmusnordqvist 💚</td>\n",
       "      <td>False</td>\n",
       "      <td>0</td>\n",
       "      <td>2</td>\n",
       "      <td>False</td>\n",
       "      <td>False</td>\n",
       "      <td>False</td>\n",
       "      <td>[]</td>\n",
       "      <td>[]</td>\n",
       "      <td>4064</td>\n",
       "      <td>Alternativet</td>\n",
       "      <td>[eu_spring]</td>\n",
       "      <td>{'dominant_topic': 3, 'topic_probability': 0.5...</td>\n",
       "    </tr>\n",
       "    <tr>\n",
       "      <th>4</th>\n",
       "      <td>2017-05-28 09:59:26+00:00</td>\n",
       "      <td>868768670427828200</td>\n",
       "      <td>Der er ikke noget alternativ til at Alternativ...</td>\n",
       "      <td>False</td>\n",
       "      <td>6</td>\n",
       "      <td>28</td>\n",
       "      <td>False</td>\n",
       "      <td>False</td>\n",
       "      <td>False</td>\n",
       "      <td>['LMÅ17']</td>\n",
       "      <td>[{'url': 'https://t.co/3MCdZZGKRq', 'expanded_...</td>\n",
       "      <td>4064</td>\n",
       "      <td>Alternativet</td>\n",
       "      <td>[alternativ, alternativ, klima, æalternativ]</td>\n",
       "      <td>{'dominant_topic': 9, 'topic_probability': 0.4...</td>\n",
       "    </tr>\n",
       "  </tbody>\n",
       "</table>\n",
       "</div>"
      ],
      "text/plain": [
       "                  created_at                   id  \\\n",
       "0  2020-10-21 14:48:39+00:00  1318927184111730700   \n",
       "1  2019-06-02 20:03:20+00:00  1135275725592891400   \n",
       "2  2016-03-10 09:07:52+00:00   707855478320189400   \n",
       "3  2019-04-07 19:59:03+00:00  1114980930467315700   \n",
       "4  2017-05-28 09:59:26+00:00   868768670427828200   \n",
       "\n",
       "                                           full_text  is_quote_status  \\\n",
       "0  Er på vej i miljøministeriet for at foreslå at...            False   \n",
       "1  @nielscallesoe @helenehagel @alternativet_ Det...            False   \n",
       "2  Vi står sammen, smiler Løkke på KL-topmøde og ...            False   \n",
       "3           @AnnaBylov @EU_Spring @rasmusnordqvist 💚            False   \n",
       "4  Der er ikke noget alternativ til at Alternativ...            False   \n",
       "\n",
       "   retweet_count  favorite_count  favorited  retweeted  is_retweet  \\\n",
       "0             13              47      False      False       False   \n",
       "1              0               1      False      False       False   \n",
       "2             13              14      False      False       False   \n",
       "3              0               2      False      False       False   \n",
       "4              6              28      False      False       False   \n",
       "\n",
       "               hashtags                                               urls  \\\n",
       "0           ['dkgreen']                                                 []   \n",
       "1                    []                                                 []   \n",
       "2  ['dkpol', 'KLtop16']                                                 []   \n",
       "3                    []                                                 []   \n",
       "4             ['LMÅ17']  [{'url': 'https://t.co/3MCdZZGKRq', 'expanded_...   \n",
       "\n",
       "   user_followers_count         party  \\\n",
       "0                  4064  Alternativet   \n",
       "1                  4064  Alternativet   \n",
       "2                  4064  Alternativet   \n",
       "3                  4064  Alternativet   \n",
       "4                  4064  Alternativet   \n",
       "\n",
       "                                              tokens  \\\n",
       "0  [vej, miljøministerium, biodiversitetsmål, Dan...   \n",
       "1  [æalternativ, nettofordel, klima, boring, Nord...   \n",
       "2  [Løkke, KL-topmøde, milliard, kommune, æaltern...   \n",
       "3                                        [eu_spring]   \n",
       "4       [alternativ, alternativ, klima, æalternativ]   \n",
       "\n",
       "                                 dominant_topic_dict  \n",
       "0  {'dominant_topic': 4, 'topic_probability': 0.8...  \n",
       "1  {'dominant_topic': 8, 'topic_probability': 0.8...  \n",
       "2  {'dominant_topic': 0, 'topic_probability': 0.8...  \n",
       "3  {'dominant_topic': 3, 'topic_probability': 0.5...  \n",
       "4  {'dominant_topic': 9, 'topic_probability': 0.4...  "
      ]
     },
     "execution_count": 5,
     "metadata": {},
     "output_type": "execute_result"
    }
   ],
   "source": [
    "import pandas as pd\n",
    "import ast\n",
    "\n",
    "tweets_df = pd.read_csv('https://raw.githubusercontent.com/CALDISS-AAU/course_ddf/master/datasets/poltweets_sample_tokens.csv')\n",
    "tweets_df['tokens'] = tweets_df['tokens'].apply(ast.literal_eval)\n",
    "tweets_df.head()"
   ]
  },
  {
   "cell_type": "code",
   "execution_count": 6,
   "metadata": {},
   "outputs": [
    {
     "name": "stdout",
     "output_type": "stream",
     "text": [
      "['vej', 'miljøministerium', 'biodiversitetsmål', 'Danmark', 'natur', 'land', 'natur', 'havs', 'ådkgre', 'NaturThor', 'æalternativ']\n"
     ]
    }
   ],
   "source": [
    "import gensim\n",
    "\n",
    "# Lagr tweet tokens i liste for sig\n",
    "tweets_tokens = list(tweets_df['tokens'])\n",
    "\n",
    "print(tweets_tokens[0])"
   ]
  },
  {
   "cell_type": "markdown",
   "metadata": {},
   "source": [
    "Derefter kan vi bruge `corpora.Dictionary` funktionen fra `gensim` til at konvertere tokens til numeriske id'er."
   ]
  },
  {
   "cell_type": "code",
   "execution_count": 7,
   "metadata": {},
   "outputs": [
    {
     "name": "stdout",
     "output_type": "stream",
     "text": [
      "\n",
      "\n",
      "Dictionary(10688 unique tokens: ['Danmark', 'NaturThor', 'biodiversitetsmål', 'havs', 'land']...)\n"
     ]
    }
   ],
   "source": [
    "from gensim import corpora\n",
    "\n",
    "# Lav en dictionary - integer id per token\n",
    "id2token = corpora.Dictionary(tweets_tokens) # integer id per word\n",
    "\n",
    "print(\"\\n\")\n",
    "print(id2token)"
   ]
  },
  {
   "cell_type": "markdown",
   "metadata": {},
   "source": [
    "`id2token` er nu en `gensim.corpora.Dictionary`. Denne indeholder forskellige metoder til at konvertere tekstdata. Blandt andet indeholder den metoden `.doc2bow()`, som danner en \"term-document frequecy\" (optælling af ord i teksten). (\"bow\" er kort for \"bag-of-words\", da optællingen netop ikke tager højde for rækkefølgen).\n",
    "\n",
    "Resultatet er en liste af tuples, hvor hvert tuple består af optælling af hvert token i teksten. \n",
    "\n",
    "Herunder bruges en \"list comprehension\" (et forsimplet for loop, der returnerer en liste), til at konvertere alle tweets:"
   ]
  },
  {
   "cell_type": "code",
   "execution_count": 8,
   "metadata": {},
   "outputs": [
    {
     "name": "stdout",
     "output_type": "stream",
     "text": [
      "[(0, 1), (1, 1), (2, 1), (3, 1), (4, 1), (5, 1), (6, 2), (7, 1), (8, 1), (9, 1)]\n"
     ]
    }
   ],
   "source": [
    "# Danner gensim corpus - optælling af tokens per tekst\n",
    "tweets_corpus = [id2token.doc2bow(tokens) for tokens in tweets_tokens] # bag-of-word(bow) tuples for hver text - (token-id, optælling)\n",
    "\n",
    "print(tweets_corpus[0])"
   ]
  },
  {
   "cell_type": "markdown",
   "metadata": {},
   "source": [
    "Vi kan tjekke, hvilke ord ligger bag id'erne, med følgende kode:"
   ]
  },
  {
   "cell_type": "code",
   "execution_count": 9,
   "metadata": {},
   "outputs": [
    {
     "data": {
      "text/plain": [
       "[('Danmark', 1),\n",
       " ('NaturThor', 1),\n",
       " ('biodiversitetsmål', 1),\n",
       " ('havs', 1),\n",
       " ('land', 1),\n",
       " ('miljøministerium', 1),\n",
       " ('natur', 2),\n",
       " ('vej', 1),\n",
       " ('ådkgre', 1),\n",
       " ('æalternativ', 1)]"
      ]
     },
     "execution_count": 9,
     "metadata": {},
     "output_type": "execute_result"
    }
   ],
   "source": [
    "[(id2token[id], freq) for id, freq in tweets_corpus[0]]"
   ]
  },
  {
   "cell_type": "markdown",
   "metadata": {},
   "source": [
    "Da vi ikke har ændret rækkefølgen, kan vi også finde tweetet i vores dataframe:"
   ]
  },
  {
   "cell_type": "code",
   "execution_count": 10,
   "metadata": {},
   "outputs": [
    {
     "data": {
      "text/plain": [
       "'Er på vej i miljøministeriet for at foreslå at vi laver biodiversitetsmål for Danmark\\n\\n10% strengt beskyttet natur til lands i 2030 mod ca 1% i dag\\n\\n20% strengt beskyttet natur til havs i 2030 mod ca 2% i dag\\n\\nSå har man noget at måle os på. #dkgreen @NaturThor @alternativet_ https://t.co/auA5QnEVkV'"
      ]
     },
     "execution_count": 10,
     "metadata": {},
     "output_type": "execute_result"
    }
   ],
   "source": [
    "tweets_df.loc[0, 'full_text']"
   ]
  },
  {
   "cell_type": "markdown",
   "metadata": {},
   "source": [
    "### Opbygning af LDA model\n",
    "\n",
    "Data er nu klar til at indgå i en gensim LDA model. Modellens parametre kan justeres på forskellig vis, men vi kører her modellem med \"standardindstillingerne\".\n",
    "\n",
    "Modellen skal bruge corpus, dictionary og antal topics (hvis ikke man specificerer topics, kører den med 100 topics - se evt. `?gensim.models.ldamodel.LdaModel` Her køres med 10 topics:"
   ]
  },
  {
   "cell_type": "code",
   "execution_count": 11,
   "metadata": {},
   "outputs": [],
   "source": [
    "from gensim.models.ldamodel import LdaModel\n",
    "\n",
    "lda_model = LdaModel(corpus=tweets_corpus,  # Corpus af tekster\n",
    "                    id2word=id2token,       # Dictionary af ord-id mapping\n",
    "                     num_topics=10,          # Antal topics\n",
    "                     random_state=142)       # Sætter seed - sikrer samme resultat"
   ]
  },
  {
   "cell_type": "markdown",
   "metadata": {},
   "source": [
    "Når modellen er kørt, kan vi inspicere, hvilke ord, der er mest sandsynlige inden for hvert topic (vi bruger `pprint()` for at gøre printet lidt mere overskueligt):"
   ]
  },
  {
   "cell_type": "code",
   "execution_count": 12,
   "metadata": {},
   "outputs": [
    {
     "name": "stdout",
     "output_type": "stream",
     "text": [
      "[(0,\n",
      "  [('barn', 0.015348122),\n",
      "   ('dansker', 0.014420724),\n",
      "   ('forslag', 0.0139040295),\n",
      "   ('grøn', 0.010408723),\n",
      "   ('æalternativ', 0.009762153),\n",
      "   ('krone', 0.008521345),\n",
      "   ('æpolitike', 0.007819455),\n",
      "   ('Danmark', 0.0073938933),\n",
      "   ('milliard', 0.006804632),\n",
      "   ('dansk', 0.0066727805)]),\n",
      " (1,\n",
      "  [('statsminister', 0.0141492635),\n",
      "   ('dansk', 0.012120124),\n",
      "   ('tid', 0.008486024),\n",
      "   ('Mette', 0.00844524),\n",
      "   ('blå', 0.0074493303),\n",
      "   ('regering', 0.0072334935),\n",
      "   ('Danmark', 0.0066043027),\n",
      "   ('ådkmedie', 0.006548233),\n",
      "   ('eksempel', 0.006375361),\n",
      "   ('fald', 0.006153698)]),\n",
      " (2,\n",
      "  [('vigtig', 0.0091714915),\n",
      "   ('høj', 0.00891667),\n",
      "   ('Heunicke', 0.008757982),\n",
      "   ('PiaOlsen', 0.0059946035),\n",
      "   ('enig', 0.0059862),\n",
      "   ('København', 0.0049921917),\n",
      "   ('stemme', 0.0047079097),\n",
      "   ('opmærksom', 0.004450018),\n",
      "   ('JanEJoergensen', 0.00441539),\n",
      "   ('uge', 0.004310148)]),\n",
      " (3,\n",
      "  [('Danmark', 0.01113594),\n",
      "   ('regering', 0.009739464),\n",
      "   ('første', 0.0076123094),\n",
      "   ('natur', 0.006795215),\n",
      "   ('sundhedsvæsen', 0.0064722802),\n",
      "   ('uddannelse', 0.006371893),\n",
      "   ('egen', 0.0059518274),\n",
      "   ('einformer', 0.0059212153),\n",
      "   ('parti', 0.0056938687),\n",
      "   ('samfund', 0.005658018)]),\n",
      " (4,\n",
      "  [('dansk', 0.014138467),\n",
      "   ('samme', 0.012532175),\n",
      "   ('ådkgre', 0.01110018),\n",
      "   ('Danmark', 0.00947895),\n",
      "   ('godt', 0.009349512),\n",
      "   ('grøn', 0.007215606),\n",
      "   ('skridt', 0.0065825246),\n",
      "   ('måde', 0.006232949),\n",
      "   ('fremtid', 0.006027921),\n",
      "   ('spørgsmål', 0.0059338994)]),\n",
      " (5,\n",
      "  [('barn', 0.018944418),\n",
      "   ('æradikal', 0.011898948),\n",
      "   ('politik', 0.010545272),\n",
      "   ('grøn', 0.009154753),\n",
      "   ('ådkgre', 0.008443347),\n",
      "   ('klar', 0.008192944),\n",
      "   ('regering', 0.007940132),\n",
      "   ('penge', 0.007563218),\n",
      "   ('enig', 0.0067152684),\n",
      "   ('bil', 0.0067088716)]),\n",
      " (6,\n",
      "  [('SFpolitik', 0.021506019),\n",
      "   ('vej', 0.011410766),\n",
      "   ('fantastisk', 0.009021799),\n",
      "   ('morgen', 0.0086664185),\n",
      "   ('forhold', 0.008133683),\n",
      "   ('regering', 0.0074806223),\n",
      "   ('kamp', 0.007211096),\n",
      "   ('land', 0.00655438),\n",
      "   ('plads', 0.0057855826),\n",
      "   ('del', 0.005452328)]),\n",
      " (7,\n",
      "  [('samarbejde', 0.013969539),\n",
      "   ('brug', 0.011692574),\n",
      "   ('tillykke', 0.009327551),\n",
      "   ('gang', 0.0073159523),\n",
      "   ('Spolitik', 0.0066081476),\n",
      "   ('ådkmedie', 0.0064690732),\n",
      "   ('LiberalAlliance', 0.0064299605),\n",
      "   ('patient', 0.0057724337),\n",
      "   ('penge', 0.0054299035),\n",
      "   ('svar', 0.00511611)]),\n",
      " (8,\n",
      "  [('regering', 0.020168144),\n",
      "   ('Danmark', 0.019524837),\n",
      "   ('valg', 0.014932022),\n",
      "   ('enig', 0.014475449),\n",
      "   ('lille', 0.011507431),\n",
      "   ('tid', 0.0104871),\n",
      "   ('parti', 0.008004995),\n",
      "   ('venstre', 0.007830993),\n",
      "   ('hel', 0.007710305),\n",
      "   ('vigtig', 0.0077008624)]),\n",
      " (9,\n",
      "  [('gang', 0.013829841),\n",
      "   ('barn', 0.0079747345),\n",
      "   ('debat', 0.0073686605),\n",
      "   ('politisk', 0.0072574085),\n",
      "   ('enig', 0.006946137),\n",
      "   ('regering', 0.0065712743),\n",
      "   ('Spolitik', 0.0061243135),\n",
      "   ('liv', 0.0060914806),\n",
      "   ('aften', 0.005572145),\n",
      "   ('fælles', 0.005477601)])]\n"
     ]
    }
   ],
   "source": [
    "from pprint import pprint\n",
    "\n",
    "pprint(lda_model.show_topics(formatted=False)) # Viser de 10 mest sandsynlige ord per topic"
   ]
  },
  {
   "cell_type": "markdown",
   "metadata": {},
   "source": [
    "### Brug af LDA model\n",
    "\n",
    "Med modellen defineret, kan vi anvende modellen på data igen til at fastslå, hvilke topics er mest fremtrædende i et tweet:"
   ]
  },
  {
   "cell_type": "code",
   "execution_count": 13,
   "metadata": {},
   "outputs": [
    {
     "name": "stdout",
     "output_type": "stream",
     "text": [
      "Er på vej i miljøministeriet for at foreslå at vi laver biodiversitetsmål for Danmark\n",
      "\n",
      "10% strengt beskyttet natur til lands i 2030 mod ca 1% i dag\n",
      "\n",
      "20% strengt beskyttet natur til havs i 2030 mod ca 2% i dag\n",
      "\n",
      "Så har man noget at måle os på. #dkgreen @NaturThor @alternativet_ https://t.co/auA5QnEVkV\n"
     ]
    }
   ],
   "source": [
    "print(tweets_df.loc[0, 'full_text'])"
   ]
  },
  {
   "cell_type": "code",
   "execution_count": 14,
   "metadata": {},
   "outputs": [
    {
     "data": {
      "text/plain": [
       "[(4, 0.8695208), (6, 0.063729264)]"
      ]
     },
     "execution_count": 14,
     "metadata": {},
     "output_type": "execute_result"
    }
   ],
   "source": [
    "lda_model[tweets_corpus[0]]"
   ]
  },
  {
   "cell_type": "markdown",
   "metadata": {},
   "source": [
    "Outputtet viser - groft sagt - at tweetet består af 87% topic 4 og 6,4% topic 6. Topic 4 er altså det mest dominerende topic i tweetet."
   ]
  },
  {
   "cell_type": "markdown",
   "metadata": {},
   "source": [
    "### Fortolkning af LDA modeller\n",
    "\n",
    "LDA modeller kan hjælpe os til at finde umiddelbare temaer. Modellen kan dog ikke fortælle, hvad disse temaer egentlig indfanger. At arbejde med topic models er derfor ofte en kvali-kvantitativ proces, hvor man bruger LDA modellen til at udlede temaer, og derefter kvalitativt forsøger at udelde, hvad disse temaer indfanger. \n",
    "\n",
    "I denne proces finder man ofte også ud af, at visse topics indfanger det samme. På den måde er det også en iterativ proces, hvor man tilpasser modellen til bedre at indfange meningsfulde temaer i teksterne."
   ]
  },
  {
   "cell_type": "markdown",
   "metadata": {},
   "source": [
    "# ØVELSE 2: Topic models i Python (reddit data)\n",
    "\n",
    "I skal nu selv lave en topic model for. I kan enten arbejde med egne data eller reddit kommentarerne fra r/denmark datasættet: [reddit_rdenmark-comments_01032021-08032021_long_tokenized.csv](https://raw.githubusercontent.com/CALDISS-AAU/course_ddf/master/datasets/reddit_rdenmark-comments_01032021-08032021_long_tokenized.csv).\n",
    "\n",
    "1. Tokenize data, hvis ikke det allerede er tokenized (dette blev gennemgået i lektion 5)\n",
    "2. Dan et \"gensim corpus\" ud fra lister af tokens i data\n",
    "2. Dan en topic model over tekstdata (bestem selv antal topics)\n",
    "3. Inspicér de mest sandsynlige ord i hvert topic (`lda_model.show_topics(formatted=False)`)\n",
    "4. Hvad kan I bruge modellen til?\n",
    "\n",
    "**Hint:** I reddit datasættet er kommentarer allerede tokenized (kolonnen \"tokens\"). Tokens er gemt som lister af tokens, men for at Python kan læse dem som liste, skal I bruge `ast.literaL_eval` funktionen."
   ]
  },
  {
   "cell_type": "markdown",
   "metadata": {},
   "source": [
    "# Prævalente topics i tekst (supplerende materiale)\n",
    "\n",
    "Vi har set på, hvordan vi kan lave en LDA model til at finde umiddelbare temaer i en tekst. Det, som kunne være interessant at se på, er, hvordan disse topics opstår i data. \n",
    "\n",
    "Dette kan hjælpe os til at blive klogere på, hvad disse topics egentlig indfanger, da vi på den måde kan finde tekster, hvor bestemte topics er meget prævalente.\n",
    "\n",
    "I det følgende laves en funktion, der finder det mest prævalente topic i et tweet, sammen med dens sandsynlighed/\"prævalens-score\" samt nøgleordene for det topic generelt. Disse oplysinger tilføjes derefter som kolonner til datasættet med tweets."
   ]
  },
  {
   "cell_type": "code",
   "execution_count": 19,
   "metadata": {},
   "outputs": [],
   "source": [
    "# Function for getting dominant topic for one corpus entry (bag-of-word tuples - bowt)\n",
    "def get_dominant_topic(text_bowt, ldamodel = lda_model):\n",
    "    \n",
    "    dominant_topic_dict = dict()\n",
    "    \n",
    "    topics_doc = ldamodel[text_bowt]\n",
    "    \n",
    "    dominant_topic = sorted(topics_doc, key = lambda t: t[1], reverse = True)[0]\n",
    "    topic_num = dominant_topic[0]\n",
    "    topic_prob = dominant_topic[1]\n",
    "    \n",
    "    topic_kws = [word for word, prop in ldamodel.show_topic(topic_num)]\n",
    "    \n",
    "    dominant_topic_dict['dominant_topic'] = topic_num\n",
    "    dominant_topic_dict['topic_probability'] = topic_prob\n",
    "    dominant_topic_dict['topic_keywords'] = topic_kws\n",
    "    \n",
    "    return(dominant_topic_dict) # Note that domninant topic info is returned as dictionary"
   ]
  },
  {
   "cell_type": "code",
   "execution_count": 20,
   "metadata": {},
   "outputs": [
    {
     "name": "stdout",
     "output_type": "stream",
     "text": [
      "{'dominant_topic': 4, 'topic_probability': 0.8698593, 'topic_keywords': ['dansk', 'samme', 'ådkgre', 'Danmark', 'godt', 'grøn', 'skridt', 'måde', 'fremtid', 'spørgsmål']}\n"
     ]
    }
   ],
   "source": [
    "# Creating list of dictionaries - one dictionary contatining dominant topic info for each corpus entry\n",
    "corpus_dominant_topics = list()\n",
    "\n",
    "for tweet_bowt in tweets_corpus:\n",
    "    dominant_topic = get_dominant_topic(tweet_bowt)\n",
    "    corpus_dominant_topics.append(dominant_topic)\n",
    "\n",
    "print(corpus_dominant_topics[0])"
   ]
  },
  {
   "cell_type": "code",
   "execution_count": 21,
   "metadata": {},
   "outputs": [],
   "source": [
    "# Add the dominant topic list as a series to the original data frame (NOTE: This assumes that order of entries has not been changed)    \n",
    "tweets_df['dominant_topic_dict'] = pd.Series(corpus_dominant_topics)"
   ]
  },
  {
   "cell_type": "code",
   "execution_count": 22,
   "metadata": {},
   "outputs": [],
   "source": [
    "# Spreading dominant topic dictionaries into columns using json_normalize\n",
    "tweets_df_topics = pd.merge(tweets_df, pd.json_normalize(tweets_df['dominant_topic_dict']), left_index=True, right_index=True)"
   ]
  },
  {
   "cell_type": "code",
   "execution_count": 23,
   "metadata": {},
   "outputs": [
    {
     "data": {
      "text/html": [
       "<div>\n",
       "<style scoped>\n",
       "    .dataframe tbody tr th:only-of-type {\n",
       "        vertical-align: middle;\n",
       "    }\n",
       "\n",
       "    .dataframe tbody tr th {\n",
       "        vertical-align: top;\n",
       "    }\n",
       "\n",
       "    .dataframe thead th {\n",
       "        text-align: right;\n",
       "    }\n",
       "</style>\n",
       "<table border=\"1\" class=\"dataframe\">\n",
       "  <thead>\n",
       "    <tr style=\"text-align: right;\">\n",
       "      <th></th>\n",
       "      <th>created_at</th>\n",
       "      <th>id</th>\n",
       "      <th>full_text</th>\n",
       "      <th>is_quote_status</th>\n",
       "      <th>retweet_count</th>\n",
       "      <th>favorite_count</th>\n",
       "      <th>favorited</th>\n",
       "      <th>retweeted</th>\n",
       "      <th>is_retweet</th>\n",
       "      <th>hashtags</th>\n",
       "      <th>urls</th>\n",
       "      <th>user_followers_count</th>\n",
       "      <th>party</th>\n",
       "      <th>tokens</th>\n",
       "      <th>dominant_topic_dict</th>\n",
       "      <th>dominant_topic</th>\n",
       "      <th>topic_probability</th>\n",
       "      <th>topic_keywords</th>\n",
       "    </tr>\n",
       "  </thead>\n",
       "  <tbody>\n",
       "    <tr>\n",
       "      <th>0</th>\n",
       "      <td>2020-10-21 14:48:39+00:00</td>\n",
       "      <td>1318927184111730700</td>\n",
       "      <td>Er på vej i miljøministeriet for at foreslå at...</td>\n",
       "      <td>False</td>\n",
       "      <td>13</td>\n",
       "      <td>47</td>\n",
       "      <td>False</td>\n",
       "      <td>False</td>\n",
       "      <td>False</td>\n",
       "      <td>['dkgreen']</td>\n",
       "      <td>[]</td>\n",
       "      <td>4064</td>\n",
       "      <td>Alternativet</td>\n",
       "      <td>[vej, miljøministerium, biodiversitetsmål, Dan...</td>\n",
       "      <td>{'dominant_topic': 4, 'topic_probability': 0.8...</td>\n",
       "      <td>4</td>\n",
       "      <td>0.869859</td>\n",
       "      <td>[dansk, samme, ådkgre, Danmark, godt, grøn, sk...</td>\n",
       "    </tr>\n",
       "    <tr>\n",
       "      <th>1</th>\n",
       "      <td>2019-06-02 20:03:20+00:00</td>\n",
       "      <td>1135275725592891400</td>\n",
       "      <td>@nielscallesoe @helenehagel @alternativet_ Det...</td>\n",
       "      <td>False</td>\n",
       "      <td>0</td>\n",
       "      <td>1</td>\n",
       "      <td>False</td>\n",
       "      <td>False</td>\n",
       "      <td>False</td>\n",
       "      <td>[]</td>\n",
       "      <td>[]</td>\n",
       "      <td>4064</td>\n",
       "      <td>Alternativet</td>\n",
       "      <td>[æalternativ, nettofordel, klima, boring, Nord...</td>\n",
       "      <td>{'dominant_topic': 8, 'topic_probability': 0.8...</td>\n",
       "      <td>8</td>\n",
       "      <td>0.814442</td>\n",
       "      <td>[regering, Danmark, valg, enig, lille, tid, pa...</td>\n",
       "    </tr>\n",
       "    <tr>\n",
       "      <th>2</th>\n",
       "      <td>2016-03-10 09:07:52+00:00</td>\n",
       "      <td>707855478320189400</td>\n",
       "      <td>Vi står sammen, smiler Løkke på KL-topmøde og ...</td>\n",
       "      <td>False</td>\n",
       "      <td>13</td>\n",
       "      <td>14</td>\n",
       "      <td>False</td>\n",
       "      <td>False</td>\n",
       "      <td>False</td>\n",
       "      <td>['dkpol', 'KLtop16']</td>\n",
       "      <td>[]</td>\n",
       "      <td>4064</td>\n",
       "      <td>Alternativet</td>\n",
       "      <td>[Løkke, KL-topmøde, milliard, kommune, æaltern...</td>\n",
       "      <td>{'dominant_topic': 0, 'topic_probability': 0.8...</td>\n",
       "      <td>0</td>\n",
       "      <td>0.849815</td>\n",
       "      <td>[barn, dansker, forslag, grøn, æalternativ, kr...</td>\n",
       "    </tr>\n",
       "    <tr>\n",
       "      <th>3</th>\n",
       "      <td>2019-04-07 19:59:03+00:00</td>\n",
       "      <td>1114980930467315700</td>\n",
       "      <td>@AnnaBylov @EU_Spring @rasmusnordqvist 💚</td>\n",
       "      <td>False</td>\n",
       "      <td>0</td>\n",
       "      <td>2</td>\n",
       "      <td>False</td>\n",
       "      <td>False</td>\n",
       "      <td>False</td>\n",
       "      <td>[]</td>\n",
       "      <td>[]</td>\n",
       "      <td>4064</td>\n",
       "      <td>Alternativet</td>\n",
       "      <td>[eu_spring]</td>\n",
       "      <td>{'dominant_topic': 3, 'topic_probability': 0.5...</td>\n",
       "      <td>3</td>\n",
       "      <td>0.547961</td>\n",
       "      <td>[Danmark, regering, første, natur, sundhedsvæs...</td>\n",
       "    </tr>\n",
       "    <tr>\n",
       "      <th>4</th>\n",
       "      <td>2017-05-28 09:59:26+00:00</td>\n",
       "      <td>868768670427828200</td>\n",
       "      <td>Der er ikke noget alternativ til at Alternativ...</td>\n",
       "      <td>False</td>\n",
       "      <td>6</td>\n",
       "      <td>28</td>\n",
       "      <td>False</td>\n",
       "      <td>False</td>\n",
       "      <td>False</td>\n",
       "      <td>['LMÅ17']</td>\n",
       "      <td>[{'url': 'https://t.co/3MCdZZGKRq', 'expanded_...</td>\n",
       "      <td>4064</td>\n",
       "      <td>Alternativet</td>\n",
       "      <td>[alternativ, alternativ, klima, æalternativ]</td>\n",
       "      <td>{'dominant_topic': 9, 'topic_probability': 0.4...</td>\n",
       "      <td>9</td>\n",
       "      <td>0.459050</td>\n",
       "      <td>[gang, barn, debat, politisk, enig, regering, ...</td>\n",
       "    </tr>\n",
       "  </tbody>\n",
       "</table>\n",
       "</div>"
      ],
      "text/plain": [
       "                  created_at                   id  \\\n",
       "0  2020-10-21 14:48:39+00:00  1318927184111730700   \n",
       "1  2019-06-02 20:03:20+00:00  1135275725592891400   \n",
       "2  2016-03-10 09:07:52+00:00   707855478320189400   \n",
       "3  2019-04-07 19:59:03+00:00  1114980930467315700   \n",
       "4  2017-05-28 09:59:26+00:00   868768670427828200   \n",
       "\n",
       "                                           full_text  is_quote_status  \\\n",
       "0  Er på vej i miljøministeriet for at foreslå at...            False   \n",
       "1  @nielscallesoe @helenehagel @alternativet_ Det...            False   \n",
       "2  Vi står sammen, smiler Løkke på KL-topmøde og ...            False   \n",
       "3           @AnnaBylov @EU_Spring @rasmusnordqvist 💚            False   \n",
       "4  Der er ikke noget alternativ til at Alternativ...            False   \n",
       "\n",
       "   retweet_count  favorite_count  favorited  retweeted  is_retweet  \\\n",
       "0             13              47      False      False       False   \n",
       "1              0               1      False      False       False   \n",
       "2             13              14      False      False       False   \n",
       "3              0               2      False      False       False   \n",
       "4              6              28      False      False       False   \n",
       "\n",
       "               hashtags                                               urls  \\\n",
       "0           ['dkgreen']                                                 []   \n",
       "1                    []                                                 []   \n",
       "2  ['dkpol', 'KLtop16']                                                 []   \n",
       "3                    []                                                 []   \n",
       "4             ['LMÅ17']  [{'url': 'https://t.co/3MCdZZGKRq', 'expanded_...   \n",
       "\n",
       "   user_followers_count         party  \\\n",
       "0                  4064  Alternativet   \n",
       "1                  4064  Alternativet   \n",
       "2                  4064  Alternativet   \n",
       "3                  4064  Alternativet   \n",
       "4                  4064  Alternativet   \n",
       "\n",
       "                                              tokens  \\\n",
       "0  [vej, miljøministerium, biodiversitetsmål, Dan...   \n",
       "1  [æalternativ, nettofordel, klima, boring, Nord...   \n",
       "2  [Løkke, KL-topmøde, milliard, kommune, æaltern...   \n",
       "3                                        [eu_spring]   \n",
       "4       [alternativ, alternativ, klima, æalternativ]   \n",
       "\n",
       "                                 dominant_topic_dict  dominant_topic  \\\n",
       "0  {'dominant_topic': 4, 'topic_probability': 0.8...               4   \n",
       "1  {'dominant_topic': 8, 'topic_probability': 0.8...               8   \n",
       "2  {'dominant_topic': 0, 'topic_probability': 0.8...               0   \n",
       "3  {'dominant_topic': 3, 'topic_probability': 0.5...               3   \n",
       "4  {'dominant_topic': 9, 'topic_probability': 0.4...               9   \n",
       "\n",
       "   topic_probability                                     topic_keywords  \n",
       "0           0.869859  [dansk, samme, ådkgre, Danmark, godt, grøn, sk...  \n",
       "1           0.814442  [regering, Danmark, valg, enig, lille, tid, pa...  \n",
       "2           0.849815  [barn, dansker, forslag, grøn, æalternativ, kr...  \n",
       "3           0.547961  [Danmark, regering, første, natur, sundhedsvæs...  \n",
       "4           0.459050  [gang, barn, debat, politisk, enig, regering, ...  "
      ]
     },
     "execution_count": 23,
     "metadata": {},
     "output_type": "execute_result"
    }
   ],
   "source": [
    "# Check resultS\n",
    "tweets_df_topics.head()"
   ]
  }
 ],
 "metadata": {
  "kernelspec": {
   "display_name": "Python 3 (ipykernel)",
   "language": "python",
   "name": "python3"
  },
  "language_info": {
   "codemirror_mode": {
    "name": "ipython",
    "version": 3
   },
   "file_extension": ".py",
   "mimetype": "text/x-python",
   "name": "python",
   "nbconvert_exporter": "python",
   "pygments_lexer": "ipython3",
   "version": "3.7.9"
  }
 },
 "nbformat": 4,
 "nbformat_minor": 4
}
