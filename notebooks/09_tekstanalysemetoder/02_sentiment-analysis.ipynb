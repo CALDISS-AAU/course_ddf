{
 "cells": [
  {
   "cell_type": "markdown",
   "metadata": {},
   "source": [
    "# Introduktion til sentiment analysis\n",
    "\n",
    "## Hvad er sentiment analysis?\n",
    "\n",
    "> \"[...] the field of study that analyzes people’s opinions, sentiments, appraisals, attitudes, and emotions toward entities and their attributes expressed in written text\" - Liu 2015\n",
    "\n",
    "**Formål:** Identificere positive og/eller negative holdninger/følelser i tekst samt hvad, disse holdninger/følelser er rettet imod.\n",
    "\n",
    "**Eksempler på brug:**\n",
    "\n",
    "- Undersøge sociale bevægelser på internettet\n",
    "- Markedsprædiktion\n",
    "- Policy-evaluering\n",
    "\n",
    "**Relateret:** opinion mining, opinion analysis, opinion extraction, sentiment mining, subjectivity analysis, affect analysis, emotion analysis, review mining\n",
    "\n",
    "## Sentiment analysis - Tre overordnede teknikker\n",
    "\n",
    "**A: Ordbogs- og regelbaseret sentiment analysis (\"lexicon and rule-based)**\n",
    "\n",
    "- Model der grundlæggende bygger på et opslagsværk over, hvorvidt et ord er negativt eller ej (fx \"hader\" -> negativt, \"elsker\" -> positivt)\n",
    "- Kan evt. udbygges med regler sådan, at der tages højde for ord i kontekst (fx \"hader ikke\" -> neutralt)\n",
    "- Fordele: inspicérbar, alsidighed\n",
    "- Ulemper: tager i meget begrænset omfang højde for kontekst\n",
    "\n",
    "**B: Præ-trænede sentiment classifiers**\n",
    "\n",
    "- Model der er trænet på eksisterende tekststykker, som er tagget efter holdningen/følelsen udtrykt i tekststykket (positivt, negativt, neutralt)\n",
    "- Gør brug af machine learning i en eller anden omfang (random forests, naive bayes, neural networks)\n",
    "- Fordele: tager i højere grad højde for kontekst, (ofte) stort træningsdatasæt\n",
    "- Ulemper: vanskelig at inspicere\n",
    "\n",
    "**C: Selv-trænede sentiment classifiers**\n",
    "\n",
    "- Model der trænes på taggede tekststykker i det materiale, som skal undersøges\n",
    "- Gør brug af analytikerens egen kendskab til området og materialet til at udlede sentiment\n",
    "- Fordele: høj kontekstnøjagtighed, til dels inspicerbar\n",
    "- Ulemper: (sandsynligvis) lille træningsdatasæt, kræver manuel tagging\n",
    "\n",
    "**Generelle svagheder**\n",
    "\n",
    "- Kontekst: Modeller er for det meste trænet på data, der deler en eller anden kontekst (tid, genre, sprog)\n",
    "- Ironi/sarkasme: Vanskeligt at træne modeller til at genkende dette ud fra tekst alene"
   ]
  },
  {
   "cell_type": "markdown",
   "metadata": {},
   "source": [
    "## Sentiment analysis i Python 1: DaCy\n",
    "\n",
    "En implementation af sentiment analysis i Python er gennem DaCy: https://centre-for-humanities-computing.github.io/DaCy/\n",
    "\n",
    "DaCy er en komplet dansk sprogmodel-løsning baseret på spaCy. DaCy indeholder en wrapper til `senda`, som er en sentiment analyzer baseret på en *transformer-model (neural netværk)*: https://github.com/cjhutto/vaderSentiment#ports-to-other-programming-languages.\n",
    "\n",
    "`senda`-modellen er udviklet af EkstraBladet og er trænet på twitter-data: https://github.com/ebanalyse/senda\n",
    "\n",
    "### Download og indlæsning\n",
    "\n",
    "DaCy fungerer mere eller mindre præcis ligesom spaCy. For at bruge den, gør vi følgende:\n",
    "\n",
    "1. Indlæser DaCy\n",
    "2. Downloader sprogmodel\n",
    "3. Indlæser sprogmodel\n",
    "4. Tilføjer senda til modellens pipeline"
   ]
  },
  {
   "cell_type": "code",
   "execution_count": 39,
   "metadata": {},
   "outputs": [],
   "source": [
    "import dacy\n",
    "from dacy.sentiment import add_senda\n",
    "\n",
    "#dacy.download_model(model=\"da_dacy_medium_tft-0.0.0\")"
   ]
  },
  {
   "cell_type": "code",
   "execution_count": 38,
   "metadata": {},
   "outputs": [
    {
     "data": {
      "text/plain": [
       "<spacy.lang.da.Danish at 0x1c5076df0c8>"
      ]
     },
     "execution_count": 38,
     "metadata": {},
     "output_type": "execute_result"
    }
   ],
   "source": [
    "nlp = dacy.load(\"da_dacy_medium_tft-0.0.0\")\n",
    "add_senda(nlp, force_extension = True)"
   ]
  },
  {
   "cell_type": "markdown",
   "metadata": {},
   "source": [
    "### Brug af sentiment analyzer\n",
    "\n",
    "Sentiment analyzeren bruges på et \"doc\" objekt (et spaCy dokument). Sådan et dannes ligsesom i spaCy. Vi gør følgende:\n",
    "\n",
    "- Danne spaCy dokument (med sprogmodel fra DaCy)\n",
    "- Undersøge sentiment (under attribut `._.polarity` og `._.polarity_prop`"
   ]
  },
  {
   "cell_type": "code",
   "execution_count": 45,
   "metadata": {},
   "outputs": [
    {
     "name": "stdout",
     "output_type": "stream",
     "text": [
      "negative \n",
      " {'prop': array([0.824, 0.121, 0.055], dtype=float32), 'labels': ['negative', 'neutral', 'positive']}\n"
     ]
    }
   ],
   "source": [
    "doc = nlp(\"Den her kaffe er det værste gang tynde pis\")\n",
    "\n",
    "print(doc._.polarity, \n",
    "      \"\\n\",\n",
    "      doc._.polarity_prop)"
   ]
  },
  {
   "cell_type": "markdown",
   "metadata": {},
   "source": [
    "### Sentiment analyzer på dataframe\n",
    "\n",
    "Ved brug af en kort wrapper-funktion og `.apply` kan sentiment analysis udføres på tekst i en dataframe. Vi gør følgende:\n",
    "\n",
    "1. Indlæser twitter-data (Folketingsmedlemmers tweets)\n",
    "2. Danner wrapper-funktion\n",
    "3. Bruger funktion med apply"
   ]
  },
  {
   "cell_type": "code",
   "execution_count": 46,
   "metadata": {},
   "outputs": [
    {
     "data": {
      "text/html": [
       "<div>\n",
       "<style scoped>\n",
       "    .dataframe tbody tr th:only-of-type {\n",
       "        vertical-align: middle;\n",
       "    }\n",
       "\n",
       "    .dataframe tbody tr th {\n",
       "        vertical-align: top;\n",
       "    }\n",
       "\n",
       "    .dataframe thead th {\n",
       "        text-align: right;\n",
       "    }\n",
       "</style>\n",
       "<table border=\"1\" class=\"dataframe\">\n",
       "  <thead>\n",
       "    <tr style=\"text-align: right;\">\n",
       "      <th></th>\n",
       "      <th>created_at</th>\n",
       "      <th>id</th>\n",
       "      <th>full_text</th>\n",
       "      <th>is_quote_status</th>\n",
       "      <th>retweet_count</th>\n",
       "      <th>favorite_count</th>\n",
       "      <th>favorited</th>\n",
       "      <th>retweeted</th>\n",
       "      <th>is_retweet</th>\n",
       "      <th>hashtags</th>\n",
       "      <th>urls</th>\n",
       "      <th>user_followers_count</th>\n",
       "      <th>party</th>\n",
       "    </tr>\n",
       "  </thead>\n",
       "  <tbody>\n",
       "    <tr>\n",
       "      <th>0</th>\n",
       "      <td>2020-10-21 14:48:39+00:00</td>\n",
       "      <td>1318927184111730700</td>\n",
       "      <td>Er på vej i miljøministeriet for at foreslå at...</td>\n",
       "      <td>False</td>\n",
       "      <td>13</td>\n",
       "      <td>47</td>\n",
       "      <td>False</td>\n",
       "      <td>False</td>\n",
       "      <td>False</td>\n",
       "      <td>['dkgreen']</td>\n",
       "      <td>[]</td>\n",
       "      <td>4064</td>\n",
       "      <td>Alternativet</td>\n",
       "    </tr>\n",
       "    <tr>\n",
       "      <th>1</th>\n",
       "      <td>2019-06-02 20:03:20+00:00</td>\n",
       "      <td>1135275725592891400</td>\n",
       "      <td>@nielscallesoe @helenehagel @alternativet_ Det...</td>\n",
       "      <td>False</td>\n",
       "      <td>0</td>\n",
       "      <td>1</td>\n",
       "      <td>False</td>\n",
       "      <td>False</td>\n",
       "      <td>False</td>\n",
       "      <td>[]</td>\n",
       "      <td>[]</td>\n",
       "      <td>4064</td>\n",
       "      <td>Alternativet</td>\n",
       "    </tr>\n",
       "    <tr>\n",
       "      <th>2</th>\n",
       "      <td>2016-03-10 09:07:52+00:00</td>\n",
       "      <td>707855478320189400</td>\n",
       "      <td>Vi står sammen, smiler Løkke på KL-topmøde og ...</td>\n",
       "      <td>False</td>\n",
       "      <td>13</td>\n",
       "      <td>14</td>\n",
       "      <td>False</td>\n",
       "      <td>False</td>\n",
       "      <td>False</td>\n",
       "      <td>['dkpol', 'KLtop16']</td>\n",
       "      <td>[]</td>\n",
       "      <td>4064</td>\n",
       "      <td>Alternativet</td>\n",
       "    </tr>\n",
       "    <tr>\n",
       "      <th>3</th>\n",
       "      <td>2019-04-07 19:59:03+00:00</td>\n",
       "      <td>1114980930467315700</td>\n",
       "      <td>@AnnaBylov @EU_Spring @rasmusnordqvist 💚</td>\n",
       "      <td>False</td>\n",
       "      <td>0</td>\n",
       "      <td>2</td>\n",
       "      <td>False</td>\n",
       "      <td>False</td>\n",
       "      <td>False</td>\n",
       "      <td>[]</td>\n",
       "      <td>[]</td>\n",
       "      <td>4064</td>\n",
       "      <td>Alternativet</td>\n",
       "    </tr>\n",
       "    <tr>\n",
       "      <th>4</th>\n",
       "      <td>2017-05-28 09:59:26+00:00</td>\n",
       "      <td>868768670427828200</td>\n",
       "      <td>Der er ikke noget alternativ til at Alternativ...</td>\n",
       "      <td>False</td>\n",
       "      <td>6</td>\n",
       "      <td>28</td>\n",
       "      <td>False</td>\n",
       "      <td>False</td>\n",
       "      <td>False</td>\n",
       "      <td>['LMÅ17']</td>\n",
       "      <td>[{'url': 'https://t.co/3MCdZZGKRq', 'expanded_...</td>\n",
       "      <td>4064</td>\n",
       "      <td>Alternativet</td>\n",
       "    </tr>\n",
       "  </tbody>\n",
       "</table>\n",
       "</div>"
      ],
      "text/plain": [
       "                  created_at                   id  \\\n",
       "0  2020-10-21 14:48:39+00:00  1318927184111730700   \n",
       "1  2019-06-02 20:03:20+00:00  1135275725592891400   \n",
       "2  2016-03-10 09:07:52+00:00   707855478320189400   \n",
       "3  2019-04-07 19:59:03+00:00  1114980930467315700   \n",
       "4  2017-05-28 09:59:26+00:00   868768670427828200   \n",
       "\n",
       "                                           full_text  is_quote_status  \\\n",
       "0  Er på vej i miljøministeriet for at foreslå at...            False   \n",
       "1  @nielscallesoe @helenehagel @alternativet_ Det...            False   \n",
       "2  Vi står sammen, smiler Løkke på KL-topmøde og ...            False   \n",
       "3           @AnnaBylov @EU_Spring @rasmusnordqvist 💚            False   \n",
       "4  Der er ikke noget alternativ til at Alternativ...            False   \n",
       "\n",
       "   retweet_count  favorite_count  favorited  retweeted  is_retweet  \\\n",
       "0             13              47      False      False       False   \n",
       "1              0               1      False      False       False   \n",
       "2             13              14      False      False       False   \n",
       "3              0               2      False      False       False   \n",
       "4              6              28      False      False       False   \n",
       "\n",
       "               hashtags                                               urls  \\\n",
       "0           ['dkgreen']                                                 []   \n",
       "1                    []                                                 []   \n",
       "2  ['dkpol', 'KLtop16']                                                 []   \n",
       "3                    []                                                 []   \n",
       "4             ['LMÅ17']  [{'url': 'https://t.co/3MCdZZGKRq', 'expanded_...   \n",
       "\n",
       "   user_followers_count         party  \n",
       "0                  4064  Alternativet  \n",
       "1                  4064  Alternativet  \n",
       "2                  4064  Alternativet  \n",
       "3                  4064  Alternativet  \n",
       "4                  4064  Alternativet  "
      ]
     },
     "execution_count": 46,
     "metadata": {},
     "output_type": "execute_result"
    }
   ],
   "source": [
    "import pandas as pd\n",
    "\n",
    "tweets_df = pd.read_csv('https://raw.githubusercontent.com/CALDISS-AAU/course_ddf/master/datasets/poltweets_sample.csv')\n",
    "tweets_df.head()"
   ]
  },
  {
   "cell_type": "code",
   "execution_count": 47,
   "metadata": {},
   "outputs": [],
   "source": [
    "def simple_sentiment(text):\n",
    "    doc = nlp(text)\n",
    "    polarity = doc._.polarity\n",
    "    \n",
    "    return(polarity)"
   ]
  },
  {
   "cell_type": "code",
   "execution_count": 49,
   "metadata": {},
   "outputs": [
    {
     "name": "stderr",
     "output_type": "stream",
     "text": [
      "C:\\Users\\kgk\\.conda\\envs\\dacy\\lib\\site-packages\\ipykernel_launcher.py:2: SettingWithCopyWarning: \n",
      "A value is trying to be set on a copy of a slice from a DataFrame.\n",
      "Try using .loc[row_indexer,col_indexer] = value instead\n",
      "\n",
      "See the caveats in the documentation: https://pandas.pydata.org/pandas-docs/stable/user_guide/indexing.html#returning-a-view-versus-a-copy\n",
      "  \n"
     ]
    },
    {
     "data": {
      "text/html": [
       "<div>\n",
       "<style scoped>\n",
       "    .dataframe tbody tr th:only-of-type {\n",
       "        vertical-align: middle;\n",
       "    }\n",
       "\n",
       "    .dataframe tbody tr th {\n",
       "        vertical-align: top;\n",
       "    }\n",
       "\n",
       "    .dataframe thead th {\n",
       "        text-align: right;\n",
       "    }\n",
       "</style>\n",
       "<table border=\"1\" class=\"dataframe\">\n",
       "  <thead>\n",
       "    <tr style=\"text-align: right;\">\n",
       "      <th></th>\n",
       "      <th>created_at</th>\n",
       "      <th>id</th>\n",
       "      <th>full_text</th>\n",
       "      <th>is_quote_status</th>\n",
       "      <th>retweet_count</th>\n",
       "      <th>favorite_count</th>\n",
       "      <th>favorited</th>\n",
       "      <th>retweeted</th>\n",
       "      <th>is_retweet</th>\n",
       "      <th>hashtags</th>\n",
       "      <th>urls</th>\n",
       "      <th>user_followers_count</th>\n",
       "      <th>party</th>\n",
       "      <th>polarity</th>\n",
       "    </tr>\n",
       "  </thead>\n",
       "  <tbody>\n",
       "    <tr>\n",
       "      <th>0</th>\n",
       "      <td>2020-10-21 14:48:39+00:00</td>\n",
       "      <td>1318927184111730700</td>\n",
       "      <td>Er på vej i miljøministeriet for at foreslå at...</td>\n",
       "      <td>False</td>\n",
       "      <td>13</td>\n",
       "      <td>47</td>\n",
       "      <td>False</td>\n",
       "      <td>False</td>\n",
       "      <td>False</td>\n",
       "      <td>['dkgreen']</td>\n",
       "      <td>[]</td>\n",
       "      <td>4064</td>\n",
       "      <td>Alternativet</td>\n",
       "      <td>neutral</td>\n",
       "    </tr>\n",
       "    <tr>\n",
       "      <th>1</th>\n",
       "      <td>2019-06-02 20:03:20+00:00</td>\n",
       "      <td>1135275725592891400</td>\n",
       "      <td>@nielscallesoe @helenehagel @alternativet_ Det...</td>\n",
       "      <td>False</td>\n",
       "      <td>0</td>\n",
       "      <td>1</td>\n",
       "      <td>False</td>\n",
       "      <td>False</td>\n",
       "      <td>False</td>\n",
       "      <td>[]</td>\n",
       "      <td>[]</td>\n",
       "      <td>4064</td>\n",
       "      <td>Alternativet</td>\n",
       "      <td>negative</td>\n",
       "    </tr>\n",
       "    <tr>\n",
       "      <th>2</th>\n",
       "      <td>2016-03-10 09:07:52+00:00</td>\n",
       "      <td>707855478320189400</td>\n",
       "      <td>Vi står sammen, smiler Løkke på KL-topmøde og ...</td>\n",
       "      <td>False</td>\n",
       "      <td>13</td>\n",
       "      <td>14</td>\n",
       "      <td>False</td>\n",
       "      <td>False</td>\n",
       "      <td>False</td>\n",
       "      <td>['dkpol', 'KLtop16']</td>\n",
       "      <td>[]</td>\n",
       "      <td>4064</td>\n",
       "      <td>Alternativet</td>\n",
       "      <td>neutral</td>\n",
       "    </tr>\n",
       "    <tr>\n",
       "      <th>3</th>\n",
       "      <td>2019-04-07 19:59:03+00:00</td>\n",
       "      <td>1114980930467315700</td>\n",
       "      <td>@AnnaBylov @EU_Spring @rasmusnordqvist 💚</td>\n",
       "      <td>False</td>\n",
       "      <td>0</td>\n",
       "      <td>2</td>\n",
       "      <td>False</td>\n",
       "      <td>False</td>\n",
       "      <td>False</td>\n",
       "      <td>[]</td>\n",
       "      <td>[]</td>\n",
       "      <td>4064</td>\n",
       "      <td>Alternativet</td>\n",
       "      <td>neutral</td>\n",
       "    </tr>\n",
       "    <tr>\n",
       "      <th>4</th>\n",
       "      <td>2017-05-28 09:59:26+00:00</td>\n",
       "      <td>868768670427828200</td>\n",
       "      <td>Der er ikke noget alternativ til at Alternativ...</td>\n",
       "      <td>False</td>\n",
       "      <td>6</td>\n",
       "      <td>28</td>\n",
       "      <td>False</td>\n",
       "      <td>False</td>\n",
       "      <td>False</td>\n",
       "      <td>['LMÅ17']</td>\n",
       "      <td>[{'url': 'https://t.co/3MCdZZGKRq', 'expanded_...</td>\n",
       "      <td>4064</td>\n",
       "      <td>Alternativet</td>\n",
       "      <td>negative</td>\n",
       "    </tr>\n",
       "  </tbody>\n",
       "</table>\n",
       "</div>"
      ],
      "text/plain": [
       "                  created_at                   id  \\\n",
       "0  2020-10-21 14:48:39+00:00  1318927184111730700   \n",
       "1  2019-06-02 20:03:20+00:00  1135275725592891400   \n",
       "2  2016-03-10 09:07:52+00:00   707855478320189400   \n",
       "3  2019-04-07 19:59:03+00:00  1114980930467315700   \n",
       "4  2017-05-28 09:59:26+00:00   868768670427828200   \n",
       "\n",
       "                                           full_text  is_quote_status  \\\n",
       "0  Er på vej i miljøministeriet for at foreslå at...            False   \n",
       "1  @nielscallesoe @helenehagel @alternativet_ Det...            False   \n",
       "2  Vi står sammen, smiler Løkke på KL-topmøde og ...            False   \n",
       "3           @AnnaBylov @EU_Spring @rasmusnordqvist 💚            False   \n",
       "4  Der er ikke noget alternativ til at Alternativ...            False   \n",
       "\n",
       "   retweet_count  favorite_count  favorited  retweeted  is_retweet  \\\n",
       "0             13              47      False      False       False   \n",
       "1              0               1      False      False       False   \n",
       "2             13              14      False      False       False   \n",
       "3              0               2      False      False       False   \n",
       "4              6              28      False      False       False   \n",
       "\n",
       "               hashtags                                               urls  \\\n",
       "0           ['dkgreen']                                                 []   \n",
       "1                    []                                                 []   \n",
       "2  ['dkpol', 'KLtop16']                                                 []   \n",
       "3                    []                                                 []   \n",
       "4             ['LMÅ17']  [{'url': 'https://t.co/3MCdZZGKRq', 'expanded_...   \n",
       "\n",
       "   user_followers_count         party  polarity  \n",
       "0                  4064  Alternativet   neutral  \n",
       "1                  4064  Alternativet  negative  \n",
       "2                  4064  Alternativet   neutral  \n",
       "3                  4064  Alternativet   neutral  \n",
       "4                  4064  Alternativet  negative  "
      ]
     },
     "execution_count": 49,
     "metadata": {},
     "output_type": "execute_result"
    }
   ],
   "source": [
    "tweets_alternativet = tweets_df.loc[tweets_df['party'] == 'Alternativet', :]\n",
    "tweets_alternativet['polarity'] = tweets_alternativet['full_text'].apply(simple_sentiment)\n",
    "\n",
    "tweets_alternativet.head()"
   ]
  },
  {
   "cell_type": "code",
   "execution_count": 52,
   "metadata": {},
   "outputs": [
    {
     "data": {
      "text/plain": [
       "negative    191\n",
       "neutral     173\n",
       "positive    136\n",
       "Name: polarity, dtype: int64"
      ]
     },
     "execution_count": 52,
     "metadata": {},
     "output_type": "execute_result"
    }
   ],
   "source": [
    "tweets_alternativet['polarity'].value_counts()"
   ]
  },
  {
   "cell_type": "markdown",
   "metadata": {},
   "source": [
    "## Sentiment analysis  i Python 2: TextBlob\n",
    "\n",
    "En implementation af sentiment analysis i Python er med TextBlob: https://textblob.readthedocs.io/en/\n",
    "\n",
    "TextBlob er en sentiment analyzer *model baseret på naive bayes (machine learnig)*,\n",
    "\n",
    "**Bemærk:** TextBlob egner sig primært til engelsk."
   ]
  },
  {
   "cell_type": "markdown",
   "metadata": {},
   "source": [
    "### Indlæsning og brug\n",
    "\n",
    "TextBlob fungerer på mange måder ligesom spaCy. Man omdanner tekststykket til et \"blob\" objekt, der indeholder forskellige attributter - herunder sentiment. Vi gør følgende\n",
    "\n",
    "1. Indlæser TextBlob\n",
    "2. Danne \"blob\" objekt ud fra tekststykke\n",
    "3. Undersøge sentiment (under attribut `sentiment`)"
   ]
  },
  {
   "cell_type": "code",
   "execution_count": 20,
   "metadata": {},
   "outputs": [
    {
     "name": "stdout",
     "output_type": "stream",
     "text": [
      "Sentiment(polarity=-0.9, subjectivity=0.95)\n"
     ]
    }
   ],
   "source": [
    "from textblob import TextBlob\n",
    "\n",
    "blob = TextBlob(\"This coffee is just absolutely horrible. I hate it.\")\n",
    "print(blob.sentiment)"
   ]
  },
  {
   "cell_type": "markdown",
   "metadata": {},
   "source": [
    "Sentiment-scoren ses af \"polarity = -0.9\". Scoren går fra -1 til 1."
   ]
  },
  {
   "cell_type": "code",
   "execution_count": 25,
   "metadata": {},
   "outputs": [
    {
     "data": {
      "text/plain": [
       "-0.9"
      ]
     },
     "execution_count": 25,
     "metadata": {},
     "output_type": "execute_result"
    }
   ],
   "source": [
    "tuple(blob.sentiment)[0]"
   ]
  },
  {
   "cell_type": "markdown",
   "metadata": {},
   "source": [
    "### TextBlob i funktion\n",
    "\n",
    "Ovenstående kan nemt konverteres til funktion, som fx kunne bruges i en dataframe med `.apply`. \n",
    "\n",
    "Sentiment-outputtet fra TextBlob kan konverteres til en tuple, hvor den første værdi er polarity-scoren."
   ]
  },
  {
   "cell_type": "code",
   "execution_count": 26,
   "metadata": {},
   "outputs": [],
   "source": [
    "def simple_polarity(text):\n",
    "    blob = TextBlob(text)\n",
    "    polarity = tuple(blob.sentiment)[0] # \n",
    "    \n",
    "    return(polarity)"
   ]
  },
  {
   "cell_type": "code",
   "execution_count": 27,
   "metadata": {},
   "outputs": [
    {
     "data": {
      "text/plain": [
       "0.7500000000000001"
      ]
     },
     "execution_count": 27,
     "metadata": {},
     "output_type": "execute_result"
    }
   ],
   "source": [
    "simple_polarity(\"What an absolutely amazing weekend!\")"
   ]
  },
  {
   "cell_type": "markdown",
   "metadata": {},
   "source": [
    "# ØVELSE 1: Sentiment Analysis\n",
    "\n",
    "Foretag sentiment analysis enten af eget data eller r/Denmark data: [reddit_rdenmark-comments_01032021-08032021_long.csv](https://raw.githubusercontent.com/CALDISS-AAU/course_ddf/master/datasets/reddit_rdenmark-comments_01032021-08032021_long.csv)\n",
    "\n",
    "(DaCy/senda for dansk, TextBlob for engelsk)\n",
    "\n",
    "**Bemærk:** Sentiment analysis med især DaCy kan tage lang tid på større datasæt. I kan med fordel arbejde med et subset i denne øvelse, for at teste funktionerne af.\n",
    "\n",
    "1. Anvend sentiment analysis på enkelte tekststykker\n",
    "2. Anvend sentiment analysis på hele datasæt eller subet\n",
    "3. Foretag opsummering af datasæt/subset, der giver indikation af, hvorvidt tonen i materialet er overvejende positiv eller negativ"
   ]
  }
 ],
 "metadata": {
  "kernelspec": {
   "display_name": "Python 3",
   "language": "python",
   "name": "python3"
  },
  "language_info": {
   "codemirror_mode": {
    "name": "ipython",
    "version": 3
   },
   "file_extension": ".py",
   "mimetype": "text/x-python",
   "name": "python",
   "nbconvert_exporter": "python",
   "pygments_lexer": "ipython3",
   "version": "3.7.9"
  }
 },
 "nbformat": 4,
 "nbformat_minor": 4
}
