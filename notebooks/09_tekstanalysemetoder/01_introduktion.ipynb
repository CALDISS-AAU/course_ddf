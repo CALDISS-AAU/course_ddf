{
 "cells": [
  {
   "cell_type": "markdown",
   "metadata": {
    "slideshow": {
     "slide_type": "slide"
    }
   },
   "source": [
    "# Mining af temaer og følelser i tekst"
   ]
  },
  {
   "cell_type": "markdown",
   "metadata": {
    "slideshow": {
     "slide_type": "slide"
    }
   },
   "source": [
    "## Udfordringer med tekstdata\n",
    "\n",
    "- Store mængder\n",
    "- Ustruktureret\n",
    "- Varieret indhold\n",
    "- Effektiv og ensartet klassificering (kvalitativ/kvantitativ)"
   ]
  },
  {
   "cell_type": "markdown",
   "metadata": {
    "slideshow": {
     "slide_type": "slide"
    }
   },
   "source": [
    "## Tekstanalysemodeller (Grimmer & Stewart 2013)\n",
    "\n",
    "![textana](https://raw.githubusercontent.com/CALDISS-AAU/course_ddf/master/notebooks/img/text-data-models.png)"
   ]
  },
  {
   "cell_type": "markdown",
   "metadata": {
    "slideshow": {
     "slide_type": "slide"
    }
   },
   "source": [
    "## Tekst og maskinlæring i analyse\n",
    "\n",
    "*Superviseret*: Klassifikation efter kendte kategorier:\n",
    "- Sentiment analysis: Kategorisering af tekst efter udtryke følelser (fx positiv/negativ)\n",
    "- Generel klassificering: Hvad handler tekststykket om?\n",
    "- Word embedding teknikker: Analyse af ords betydning gennem deres kontekst (computationelt)\n",
    "\n",
    "*Usuperviseret*: Klassifikation efter ukendte kategorier:\n",
    "- Klyngeanalyser: Gruppering efter ensartethed af teksterne\n",
    "- Topic models: Udledning af underliggende emner i teksterne"
   ]
  },
  {
   "cell_type": "markdown",
   "metadata": {
    "slideshow": {
     "slide_type": "slide"
    }
   },
   "source": [
    "## Principper for automatiseret tekstanalyse (Grimmer & Stewart 2013)\n",
    "\n",
    "---\n",
    "\n",
    "> Quantitative Methods Augment Humans, Not Replace Them\n",
    "\n",
    "---\n",
    "\n",
    "> There Is No Globally Best Method for Automated Text Analysis\n",
    "\n",
    "---\n",
    "\n",
    "> Validate, Validate, Validate\n",
    "\n",
    "---"
   ]
  }
 ],
 "metadata": {
  "kernelspec": {
   "display_name": "Python 3 (ipykernel)",
   "language": "python",
   "name": "python3"
  },
  "language_info": {
   "codemirror_mode": {
    "name": "ipython",
    "version": 3
   },
   "file_extension": ".py",
   "mimetype": "text/x-python",
   "name": "python",
   "nbconvert_exporter": "python",
   "pygments_lexer": "ipython3",
   "version": "3.7.9"
  }
 },
 "nbformat": 4,
 "nbformat_minor": 4
}
