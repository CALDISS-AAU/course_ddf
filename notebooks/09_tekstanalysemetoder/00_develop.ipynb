{
 "cells": [
  {
   "cell_type": "markdown",
   "metadata": {},
   "source": [
    "## Mining af temaer og følelser i tekst\n",
    "\n",
    "**Indhold**\n",
    "- Intro: Analysemuligheder med tekst\n",
    "- Sentiment analysis\n",
    "- Topic modelling\n",
    "\n",
    "**Intro**\n",
    "- Typiske udfordringer med tekst\n",
    "- Typiske spørgsmål\n",
    "- Superviseret/usuperviseret\n",
    "- Principper for tekstanalyse\n",
    "\n",
    "**Sentiment analysis**\n",
    "- Hvad er det?\n",
    "- Typer (dictionariy-methods, neural networks)\n",
    "- Implementation: textblob (via spacy) (engelsk data)\n",
    "    - Naive bayes (machine learning) og ordbogsbaseret afhængig af implementation\n",
    "- Implementation: vader (via dacy)\n",
    "    - Ordbogs- og regelbaseret\n",
    "    \n",
    "**LDA**\n",
    "- Hvad er LDA?\n",
    "- Hvordan fungerer LDA overordnet?\n",
    "- Preprocessing - vectorizing (gensim corpus)\n",
    "- Træning\n",
    "- Prævalente topics"
   ]
  }
 ],
 "metadata": {
  "kernelspec": {
   "display_name": "Python 3",
   "language": "python",
   "name": "python3"
  },
  "language_info": {
   "codemirror_mode": {
    "name": "ipython",
    "version": 3
   },
   "file_extension": ".py",
   "mimetype": "text/x-python",
   "name": "python",
   "nbconvert_exporter": "python",
   "pygments_lexer": "ipython3",
   "version": "3.7.9"
  }
 },
 "nbformat": 4,
 "nbformat_minor": 4
}
