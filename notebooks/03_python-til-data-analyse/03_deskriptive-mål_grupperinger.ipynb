{
 "cells": [
  {
   "cell_type": "markdown",
   "id": "polar-whole",
   "metadata": {},
   "source": [
    "# Deskriptive mål & grupperinger\n",
    "\n",
    "## Deskriptive mål\n",
    "\n",
    "Én måde at udforske et datasæt er ved at se nærmere på forskellige deskriptive mål for variable i datasættet.\n",
    "\n",
    "Metoden `.describe()` danner deskriptive mål for alle (kompatible) variable i datasættet:"
   ]
  },
  {
   "cell_type": "code",
   "execution_count": 1,
   "id": "middle-deployment",
   "metadata": {},
   "outputs": [],
   "source": [
    "import pandas as pd\n",
    "\n",
    "ess2018 = pd.read_csv(\"https://github.com/CALDISS-AAU/course_ddf/raw/master/datasets/ESS2018DK_subset.csv\")"
   ]
  },
  {
   "cell_type": "code",
   "execution_count": 2,
   "id": "recorded-paris",
   "metadata": {},
   "outputs": [
    {
     "data": {
      "text/html": [
       "<div>\n",
       "<style scoped>\n",
       "    .dataframe tbody tr th:only-of-type {\n",
       "        vertical-align: middle;\n",
       "    }\n",
       "\n",
       "    .dataframe tbody tr th {\n",
       "        vertical-align: top;\n",
       "    }\n",
       "\n",
       "    .dataframe thead th {\n",
       "        text-align: right;\n",
       "    }\n",
       "</style>\n",
       "<table border=\"1\" class=\"dataframe\">\n",
       "  <thead>\n",
       "    <tr style=\"text-align: right;\">\n",
       "      <th></th>\n",
       "      <th>idno</th>\n",
       "      <th>netustm</th>\n",
       "      <th>ppltrst</th>\n",
       "      <th>yrbrn</th>\n",
       "      <th>eduyrs</th>\n",
       "      <th>wkhct</th>\n",
       "      <th>wkhtot</th>\n",
       "      <th>grspnum</th>\n",
       "      <th>frlgrsp</th>\n",
       "      <th>inwtm</th>\n",
       "    </tr>\n",
       "  </thead>\n",
       "  <tbody>\n",
       "    <tr>\n",
       "      <th>count</th>\n",
       "      <td>1285.000000</td>\n",
       "      <td>1134.000000</td>\n",
       "      <td>1282.000000</td>\n",
       "      <td>1285.000000</td>\n",
       "      <td>1278.000000</td>\n",
       "      <td>1217.000000</td>\n",
       "      <td>1258.000000</td>\n",
       "      <td>7.150000e+02</td>\n",
       "      <td>252.000000</td>\n",
       "      <td>1280.000000</td>\n",
       "    </tr>\n",
       "    <tr>\n",
       "      <th>mean</th>\n",
       "      <td>110979.542412</td>\n",
       "      <td>227.431217</td>\n",
       "      <td>7.079563</td>\n",
       "      <td>1967.047471</td>\n",
       "      <td>13.996088</td>\n",
       "      <td>33.806902</td>\n",
       "      <td>36.441176</td>\n",
       "      <td>4.368549e+04</td>\n",
       "      <td>37255.230159</td>\n",
       "      <td>63.323437</td>\n",
       "    </tr>\n",
       "    <tr>\n",
       "      <th>std</th>\n",
       "      <td>25534.338367</td>\n",
       "      <td>193.406614</td>\n",
       "      <td>1.800747</td>\n",
       "      <td>18.294410</td>\n",
       "      <td>5.746878</td>\n",
       "      <td>9.399469</td>\n",
       "      <td>11.762775</td>\n",
       "      <td>1.221933e+05</td>\n",
       "      <td>33449.267184</td>\n",
       "      <td>26.102194</td>\n",
       "    </tr>\n",
       "    <tr>\n",
       "      <th>min</th>\n",
       "      <td>5816.000000</td>\n",
       "      <td>0.000000</td>\n",
       "      <td>0.000000</td>\n",
       "      <td>1929.000000</td>\n",
       "      <td>0.000000</td>\n",
       "      <td>0.000000</td>\n",
       "      <td>0.000000</td>\n",
       "      <td>0.000000e+00</td>\n",
       "      <td>0.000000</td>\n",
       "      <td>18.000000</td>\n",
       "    </tr>\n",
       "    <tr>\n",
       "      <th>25%</th>\n",
       "      <td>93707.000000</td>\n",
       "      <td>90.000000</td>\n",
       "      <td>6.000000</td>\n",
       "      <td>1952.000000</td>\n",
       "      <td>11.000000</td>\n",
       "      <td>35.000000</td>\n",
       "      <td>35.000000</td>\n",
       "      <td>2.600000e+04</td>\n",
       "      <td>28375.000000</td>\n",
       "      <td>51.000000</td>\n",
       "    </tr>\n",
       "    <tr>\n",
       "      <th>50%</th>\n",
       "      <td>112877.000000</td>\n",
       "      <td>150.000000</td>\n",
       "      <td>7.000000</td>\n",
       "      <td>1966.000000</td>\n",
       "      <td>14.000000</td>\n",
       "      <td>37.000000</td>\n",
       "      <td>37.000000</td>\n",
       "      <td>3.200000e+04</td>\n",
       "      <td>35000.000000</td>\n",
       "      <td>59.000000</td>\n",
       "    </tr>\n",
       "    <tr>\n",
       "      <th>75%</th>\n",
       "      <td>131072.000000</td>\n",
       "      <td>300.000000</td>\n",
       "      <td>8.000000</td>\n",
       "      <td>1982.000000</td>\n",
       "      <td>17.000000</td>\n",
       "      <td>37.000000</td>\n",
       "      <td>41.000000</td>\n",
       "      <td>4.100000e+04</td>\n",
       "      <td>40000.000000</td>\n",
       "      <td>70.000000</td>\n",
       "    </tr>\n",
       "    <tr>\n",
       "      <th>max</th>\n",
       "      <td>150446.000000</td>\n",
       "      <td>1020.000000</td>\n",
       "      <td>10.000000</td>\n",
       "      <td>2003.000000</td>\n",
       "      <td>40.000000</td>\n",
       "      <td>80.000000</td>\n",
       "      <td>90.000000</td>\n",
       "      <td>3.000000e+06</td>\n",
       "      <td>500000.000000</td>\n",
       "      <td>613.000000</td>\n",
       "    </tr>\n",
       "  </tbody>\n",
       "</table>\n",
       "</div>"
      ],
      "text/plain": [
       "                idno      netustm      ppltrst        yrbrn       eduyrs  \\\n",
       "count    1285.000000  1134.000000  1282.000000  1285.000000  1278.000000   \n",
       "mean   110979.542412   227.431217     7.079563  1967.047471    13.996088   \n",
       "std     25534.338367   193.406614     1.800747    18.294410     5.746878   \n",
       "min      5816.000000     0.000000     0.000000  1929.000000     0.000000   \n",
       "25%     93707.000000    90.000000     6.000000  1952.000000    11.000000   \n",
       "50%    112877.000000   150.000000     7.000000  1966.000000    14.000000   \n",
       "75%    131072.000000   300.000000     8.000000  1982.000000    17.000000   \n",
       "max    150446.000000  1020.000000    10.000000  2003.000000    40.000000   \n",
       "\n",
       "             wkhct       wkhtot       grspnum        frlgrsp        inwtm  \n",
       "count  1217.000000  1258.000000  7.150000e+02     252.000000  1280.000000  \n",
       "mean     33.806902    36.441176  4.368549e+04   37255.230159    63.323437  \n",
       "std       9.399469    11.762775  1.221933e+05   33449.267184    26.102194  \n",
       "min       0.000000     0.000000  0.000000e+00       0.000000    18.000000  \n",
       "25%      35.000000    35.000000  2.600000e+04   28375.000000    51.000000  \n",
       "50%      37.000000    37.000000  3.200000e+04   35000.000000    59.000000  \n",
       "75%      37.000000    41.000000  4.100000e+04   40000.000000    70.000000  \n",
       "max      80.000000    90.000000  3.000000e+06  500000.000000   613.000000  "
      ]
     },
     "execution_count": 2,
     "metadata": {},
     "output_type": "execute_result"
    }
   ],
   "source": [
    "ess2018.describe()"
   ]
  },
  {
   "cell_type": "markdown",
   "id": "regular-upset",
   "metadata": {},
   "source": [
    "Metoden fungerer også på enkeltvariable:"
   ]
  },
  {
   "cell_type": "code",
   "execution_count": 21,
   "id": "agreed-atmosphere",
   "metadata": {},
   "outputs": [
    {
     "data": {
      "text/plain": [
       "count    1502.000000\n",
       "mean       36.171771\n",
       "std        13.205436\n",
       "min         0.000000\n",
       "25%        34.000000\n",
       "50%        37.000000\n",
       "75%        42.000000\n",
       "max       168.000000\n",
       "Name: wkhtot, dtype: float64"
      ]
     },
     "execution_count": 21,
     "metadata": {},
     "output_type": "execute_result"
    }
   ],
   "source": [
    "ess2018['wkhtot'].describe()"
   ]
  },
  {
   "cell_type": "markdown",
   "id": "intimate-wichita",
   "metadata": {},
   "source": [
    "`.describe()` danner følgende mål:\n",
    "- `count`: Antal svar ekskl. missing\n",
    "- `mean`: Middelværdien\n",
    "- `std`: Standardafvigelsen\n",
    "- `min`: Minimumværdien\n",
    "- `25%`: 1. kvartil\n",
    "- `50%`: 2. kvartil\n",
    "- `75%`: 3. kvartil\n",
    "- `max`: Maksimumværdien"
   ]
  },
  {
   "cell_type": "markdown",
   "id": "hispanic-lambda",
   "metadata": {},
   "source": [
    "Der knytter sig også en række metoder til at danne de enkelte deskriptive mål.\n",
    "\n",
    "Herunder printes fx middelværdien, standardafvigelsen, minimums- og maksimumsværdien for variablen `weight`:"
   ]
  },
  {
   "cell_type": "code",
   "execution_count": 22,
   "id": "economic-present",
   "metadata": {},
   "outputs": [
    {
     "name": "stdout",
     "output_type": "stream",
     "text": [
      "36.17177097203729\n",
      "13.20543573826518\n",
      "0.0\n",
      "168.0\n"
     ]
    }
   ],
   "source": [
    "print(ess2018['wkhtot'].mean())\n",
    "print(ess2018['wkhtot'].std())\n",
    "print(ess2018['wkhtot'].min())\n",
    "print(ess2018['wkhtot'].max())"
   ]
  },
  {
   "cell_type": "markdown",
   "id": "alert-setup",
   "metadata": {},
   "source": [
    "Ovenstående værdier fortæller, at `wkhtot` indeholder værdier fra 0.0 til 168.0 med en middelværdi på 36.17 og en standardafvigelse på 13.21 (middelværdien af de afstande, som hver observation afviger fra middelværdien)."
   ]
  },
  {
   "cell_type": "markdown",
   "id": "numeric-handle",
   "metadata": {},
   "source": [
    "### Deskriptive mål og kategoriske variable\n",
    "\n",
    "Sammenlignes outputtet fra `.describe()` med indholdet af datasættet ses, at der ikke udregnes deskriptive mål for alle variable. \n",
    "\n",
    "Når `.describe()` bruges på et hel dataframe, udregnes kun mål for numeriske variabeltyper; altså variable, der kun består af tal.\n",
    "\n",
    "Metoden kan dog også bruges på en kategorisk variabel som `ppltrst`:"
   ]
  },
  {
   "cell_type": "code",
   "execution_count": 23,
   "id": "legitimate-strengthening",
   "metadata": {},
   "outputs": [
    {
     "data": {
      "text/plain": [
       "count     1566\n",
       "unique       3\n",
       "top        Yes\n",
       "freq      1332\n",
       "Name: vote, dtype: object"
      ]
     },
     "execution_count": 23,
     "metadata": {},
     "output_type": "execute_result"
    }
   ],
   "source": [
    "ess2018['vote'].describe()"
   ]
  },
  {
   "cell_type": "markdown",
   "id": "british-request",
   "metadata": {},
   "source": [
    "## Grupperinger: Opsummeringer på gruppeniveau (groupby)"
   ]
  },
  {
   "cell_type": "markdown",
   "id": "powerful-validity",
   "metadata": {},
   "source": [
    "En effektiv måde at udforske og udføre indledende deskriptive analyser af sine data, er ved at undersøge de grupperinger, som data indeholder.\n",
    "\n",
    "Her skal vi se på nogen forskellige måder, hvor der kan udregnes deskriptive mål og dannes visualiseringer for grupper i data\n",
    "\n",
    "Vi starter med at indlæse de nødvendige pakker og data. Aldersvariablen (som også blev tilføjet i lektion 3) tilføjes igen:"
   ]
  },
  {
   "cell_type": "markdown",
   "id": "binding-forty",
   "metadata": {},
   "source": [
    "### Brug af split-apply til at opsummere data\n",
    "\n",
    "Metoden `.groupby()` grupperer datasæt efter de givne variable:"
   ]
  },
  {
   "cell_type": "code",
   "execution_count": 24,
   "id": "brown-cemetery",
   "metadata": {},
   "outputs": [],
   "source": [
    "grouped_df = ess2018.groupby(['gndr'])"
   ]
  },
  {
   "cell_type": "markdown",
   "id": "useful-intermediate",
   "metadata": {},
   "source": [
    "Selve objektet, som bliver dannet, indeholder ikke information, der bare kan kaldes frem direkte:"
   ]
  },
  {
   "cell_type": "code",
   "execution_count": 25,
   "id": "meaning-affair",
   "metadata": {},
   "outputs": [
    {
     "data": {
      "text/plain": [
       "<pandas.core.groupby.generic.DataFrameGroupBy object at 0x000001CB17F40948>"
      ]
     },
     "execution_count": 25,
     "metadata": {},
     "output_type": "execute_result"
    }
   ],
   "source": [
    "grouped_df"
   ]
  },
  {
   "cell_type": "markdown",
   "id": "complex-scratch",
   "metadata": {},
   "source": [
    "Dog kan vi danne de samme deskriptive mål, som vi kan for hele datasættet, men hvor de opsummeres på gruppeniveauet:"
   ]
  },
  {
   "cell_type": "code",
   "execution_count": 26,
   "id": "editorial-martial",
   "metadata": {},
   "outputs": [
    {
     "data": {
      "text/html": [
       "<div>\n",
       "<style scoped>\n",
       "    .dataframe tbody tr th:only-of-type {\n",
       "        vertical-align: middle;\n",
       "    }\n",
       "\n",
       "    .dataframe tbody tr th {\n",
       "        vertical-align: top;\n",
       "    }\n",
       "\n",
       "    .dataframe thead th {\n",
       "        text-align: right;\n",
       "    }\n",
       "</style>\n",
       "<table border=\"1\" class=\"dataframe\">\n",
       "  <thead>\n",
       "    <tr style=\"text-align: right;\">\n",
       "      <th></th>\n",
       "      <th>idno</th>\n",
       "      <th>netustm</th>\n",
       "      <th>ppltrst</th>\n",
       "      <th>yrbrn</th>\n",
       "      <th>eduyrs</th>\n",
       "      <th>wkhct</th>\n",
       "      <th>wkhtot</th>\n",
       "      <th>grspnum</th>\n",
       "      <th>frlgrsp</th>\n",
       "      <th>inwtm</th>\n",
       "    </tr>\n",
       "    <tr>\n",
       "      <th>gndr</th>\n",
       "      <th></th>\n",
       "      <th></th>\n",
       "      <th></th>\n",
       "      <th></th>\n",
       "      <th></th>\n",
       "      <th></th>\n",
       "      <th></th>\n",
       "      <th></th>\n",
       "      <th></th>\n",
       "      <th></th>\n",
       "    </tr>\n",
       "  </thead>\n",
       "  <tbody>\n",
       "    <tr>\n",
       "      <th>Female</th>\n",
       "      <td>111135.282369</td>\n",
       "      <td>227.564669</td>\n",
       "      <td>7.140496</td>\n",
       "      <td>1967.834711</td>\n",
       "      <td>13.847010</td>\n",
       "      <td>31.939850</td>\n",
       "      <td>33.561404</td>\n",
       "      <td>53165.458689</td>\n",
       "      <td>45699.366667</td>\n",
       "      <td>64.078621</td>\n",
       "    </tr>\n",
       "    <tr>\n",
       "      <th>Male</th>\n",
       "      <td>110552.542553</td>\n",
       "      <td>236.069645</td>\n",
       "      <td>6.996437</td>\n",
       "      <td>1968.598109</td>\n",
       "      <td>13.534524</td>\n",
       "      <td>34.324393</td>\n",
       "      <td>38.354523</td>\n",
       "      <td>128033.880597</td>\n",
       "      <td>84030.717742</td>\n",
       "      <td>61.468490</td>\n",
       "    </tr>\n",
       "  </tbody>\n",
       "</table>\n",
       "</div>"
      ],
      "text/plain": [
       "                 idno     netustm   ppltrst        yrbrn     eduyrs  \\\n",
       "gndr                                                                  \n",
       "Female  111135.282369  227.564669  7.140496  1967.834711  13.847010   \n",
       "Male    110552.542553  236.069645  6.996437  1968.598109  13.534524   \n",
       "\n",
       "            wkhct     wkhtot        grspnum       frlgrsp      inwtm  \n",
       "gndr                                                                  \n",
       "Female  31.939850  33.561404   53165.458689  45699.366667  64.078621  \n",
       "Male    34.324393  38.354523  128033.880597  84030.717742  61.468490  "
      ]
     },
     "execution_count": 26,
     "metadata": {},
     "output_type": "execute_result"
    }
   ],
   "source": [
    "grouped_df.mean()"
   ]
  },
  {
   "cell_type": "markdown",
   "id": "amber-notice",
   "metadata": {},
   "source": [
    "Det samme kan gøres for enkeltvariable:"
   ]
  },
  {
   "cell_type": "code",
   "execution_count": 27,
   "id": "musical-bibliography",
   "metadata": {},
   "outputs": [
    {
     "data": {
      "text/plain": [
       "gndr\n",
       "Female    33.561404\n",
       "Male      38.354523\n",
       "Name: wkhtot, dtype: float64"
      ]
     },
     "execution_count": 27,
     "metadata": {},
     "output_type": "execute_result"
    }
   ],
   "source": [
    "grouped_df['wkhtot'].mean()"
   ]
  },
  {
   "cell_type": "markdown",
   "id": "durable-tuner",
   "metadata": {},
   "source": [
    "En lang række metoder kan bruges på grupperede data. Se dem alle her: https://pandas.pydata.org/pandas-docs/stable/user_guide/groupby.html.\n",
    "\n",
    "- `mean()`: Middelværdi for grupperne\n",
    "\n",
    "- `size()`: Størrelse af grupperne\n",
    "\n",
    "- `count()`: Tællinger inden for grupperne\n",
    "\n",
    "- `describe()`: Deskriptive mål inden for grupperne\n",
    "\n",
    "- `min()`: Minimum for grupperne\n",
    "\n",
    "- `max()`: Maximum for grupperne"
   ]
  },
  {
   "cell_type": "markdown",
   "id": "selected-cleaner",
   "metadata": {},
   "source": [
    "Metoden `value_counts()` kan bruges til at lave optællinger af kategoriske inden for grupperne.\n",
    "\n",
    "Herunder laves optælling for variablen `vote` fordelt på køn:"
   ]
  },
  {
   "cell_type": "code",
   "execution_count": 28,
   "id": "occasional-genealogy",
   "metadata": {},
   "outputs": [
    {
     "data": {
      "text/plain": [
       "gndr    vote                \n",
       "Female  Yes                     626\n",
       "        Not eligible to vote     63\n",
       "        No                       34\n",
       "Male    Yes                     706\n",
       "        Not eligible to vote     77\n",
       "        No                       60\n",
       "Name: vote, dtype: int64"
      ]
     },
     "execution_count": 28,
     "metadata": {},
     "output_type": "execute_result"
    }
   ],
   "source": [
    "grouped_df['vote'].value_counts()"
   ]
  },
  {
   "cell_type": "markdown",
   "id": "funny-ireland",
   "metadata": {},
   "source": [
    "# ØVELSE 3: Deskriptive mål\n",
    "\n",
    "1. Brug `.describe()` eller passende metoder til at finde ud af følgende:\n",
    "\n",
    "- Hvor gammel er den yngste person i datasættet?\n",
    "- Hvor gammel er den ældste person i datasættet?\n",
    "- Hvad er gennemsnitsalderen i datasættet?\n",
    "\n",
    "- *Husk at datasættet er fra 2018.*\n",
    "\n",
    "\n",
    "2. Brug `.groupby()` til at finde ud af, om kvinderne eller mændende i datasættet har flest års uddannelse i gennemsnit.\n"
   ]
  }
 ],
 "metadata": {
  "kernelspec": {
   "display_name": "Python 3",
   "language": "python",
   "name": "python3"
  },
  "language_info": {
   "codemirror_mode": {
    "name": "ipython",
    "version": 3
   },
   "file_extension": ".py",
   "mimetype": "text/x-python",
   "name": "python",
   "nbconvert_exporter": "python",
   "pygments_lexer": "ipython3",
   "version": "3.7.9"
  }
 },
 "nbformat": 4,
 "nbformat_minor": 5
}
