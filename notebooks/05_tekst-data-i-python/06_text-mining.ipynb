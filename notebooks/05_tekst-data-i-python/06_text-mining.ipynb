{
 "cells": [
  {
   "cell_type": "markdown",
   "metadata": {},
   "source": [
    "# Simple text mining teknikker\n",
    "\n",
    "Indtil videre har vi arbejdet med enkelte tekststykker, men hvordan oversætter vi disse teknikker til større samlinger? (corpus)\n",
    "\n",
    "En samling af dokumenter eller tekster, der bruges til at undersøge et bestemt tema eller en bestemt problemstilling, kaldes et *corpus* (et term fra lingvistik).\n",
    "\n",
    "Der er forskellige dataformater til at arbejde med corpora kvantitativt. Et udbredt format er et \"document-term-matrix\" (dtm) eller et \"term-document-matrix\" (tdm). Et document-term-matrix er en tabel, hvor dokumenterne/teksterne udgør rækkerne og tokens udgør kolonner. Hver celle er så en tælling af et token inden for hvert dokument. Et \"term-document-matrix\" er det samme, men hvor tokens udgør rækker og dokumenter udgør kolonner. \n",
    "\n",
    "Et \"document-term-matrix\" er nyttigt og nødvendigt til forskellige modeller, men formatet egner sig ikke særlig godt til mere simple, eksplorative text mining teknikker. Dette fordi at det er vanskeligt at bevare anden information, som man har i teksterne, i det format (fx forfatter af teksten, udgivelsestidspunkt eller andet).\n",
    "\n",
    "## Tidy text data\n",
    "\n",
    "Et alternativt format er et såkaldt \"tidy text\" format. I dette format betragtes hver optræden af et token som en observation. I dette format foregår der ikke nogen form for opsummering eller optælling i selve dataformatet. I stedet splittes tokens i tekster ud i rækker, så man for hver optræden af et token kan kombinere det med de øvrige oplysninger, som man har i data.\n",
    "\n",
    "Tilgangen er mindre udbredt i Python, men ses ofte brugt i R (se fx [Silge, J og D Robinson: \"Text Mining with R: A Tidy Approach\"](https://www.tidytextmining.com/)).\n",
    "\n",
    "**Fordele:**\n",
    "- Fastholder dokumenttilhør og andre relevante oplysninger\n",
    "- Gør det nemt at arbejde med\n",
    "- Vi kan bruge pandas metoder til nemt at lave opsummeringer og visualiseringer\n",
    "    \n",
    "**Ulemper:**\n",
    "- Data fylder hurtigt meget\n",
    "- Kan have effekt på beregningstiden\n",
    "- Ikke kompatibelt med mange modeller (data skal måske konverteres igen for at passe med model)"
   ]
  },
  {
   "cell_type": "code",
   "execution_count": 11,
   "metadata": {},
   "outputs": [],
   "source": [
    "import pandas as pd\n",
    "import seaborn as sns\n",
    "\n",
    "%matplotlib inline\n",
    "sns.set(rc={'figure.figsize':(20,12)})\n",
    "\n",
    "tweetdata_url = \"https://raw.githubusercontent.com/CALDISS-AAU/course_ddf/master/datasets/poltweets_sample.csv\"\n",
    "tweets_df = pd.read_csv(tweetdata_url)"
   ]
  },
  {
   "cell_type": "markdown",
   "metadata": {},
   "source": [
    "## Fra text corpora til tidy text i Python\n",
    "\n",
    "Python (og pandas) har flere funktioner, der gør det nemt at anvende funktioner på alle værdier i en kolonne. Twitterdata er lige nu læst ind som en dataframe, hvor selve tweetet fremgår af kolonnen `full_text`:"
   ]
  },
  {
   "cell_type": "code",
   "execution_count": null,
   "metadata": {},
   "outputs": [],
   "source": [
    "tweets_df['full_text'].head()"
   ]
  },
  {
   "cell_type": "markdown",
   "metadata": {},
   "source": [
    "Vi har allerede udviklet en funktion, der virker på et enkelt tekststykke. Da hver celle i kolonnen `full_text` består af et enkelt tekststykke (et tweet), kan funktionen derfor bruges på hvilken som helst celle i kolonnen:"
   ]
  },
  {
   "cell_type": "code",
   "execution_count": 3,
   "metadata": {},
   "outputs": [],
   "source": [
    "import spacy\n",
    "\n",
    "nlp = spacy.load(\"da_core_news_sm\", disable = [\"ner\"])\n",
    "\n",
    "def tokenizer_spacy(text): # Definerer funktion ud fra koden fra tidligere\n",
    "    custom_stops = [\"god\", \"al\", \"stor\", \"ny\", \"tak\", \"dag\"] # Definerer kontekstspecifikke stopord\n",
    "    default_stopwords = list(nlp.Defaults.stop_words) # Indlæser prædefineret stopordsliste\n",
    "    stop_words = default_stopwords + custom_stops # Danner samlet stopordsliste\n",
    "    pos_tags = ['PROPN', 'ADJ', 'NOUN'] # Definerer POS-tags som skal bevares: egenavne, adjektiver og navneord\n",
    "\n",
    "    doc = nlp(text)\n",
    "\n",
    "    tokens = []\n",
    "\n",
    "    for word in doc: # Looper igennem hvert ord i tweet\n",
    "        if word.lemma_.startswith(\"@\"): # Ord må ikke starte med @ - går videre til næste ord, hvis det gør\n",
    "            continue \n",
    "        if word.lemma_.startswith(\"#\"): # Ord må ikke starte med # - går videre til næste ord, hvis det gør\n",
    "            continue \n",
    "        if (len(word.lemma_) < 3): # Ord må ikke være mindre end 3 karakterer - går videre til næste ord, hvis det er\n",
    "            continue\n",
    "        if (word.pos_ in pos_tags) and (word.lemma_ not in stop_words): # Tjek at ordets POS-tag indgår i listen af accepterede tags og at ordet ikke er stopord\n",
    "            # Bemærk at denne betingelse nås kun for dem, som ikke opfylder betingelserne fra de andre if-linjer\n",
    "            tokens.append(word.lemma_) # Tilføj ordets lemma til tokens, hvis if-betingelse er opfyldt\n",
    "                \n",
    "    return(tokens)"
   ]
  },
  {
   "cell_type": "code",
   "execution_count": 4,
   "metadata": {},
   "outputs": [
    {
     "name": "stdout",
     "output_type": "stream",
     "text": [
      "- Hvordan sikrer vi at forebyggelse og behandling af cannabismisbrug blandt unge bliver styrket gennem legalisering af cannabis i Danmark? \n",
      "Det var omdrejningspunktet i en to timers debat med dem, der har “hands on” på området, nemlig misbrugsbehandlerne. 💚@alternativet_  #dkpol https://t.co/DnxKEGk9Ab\n",
      "\n",
      "\n",
      "['forebyggelse', 'behandling', 'cannabismisbrug', 'unge', 'legalisering', 'cannabis', 'Danmark', 'timer', 'debat', 'hands', 'område', 'misbrugsbehandlerne', 'dkpol', 'https://t.co/DnxKEGk9Ab']\n"
     ]
    }
   ],
   "source": [
    "tokens = tokenizer_spacy(tweets_df.loc[102, 'full_text'])\n",
    "\n",
    "print(tweets_df.loc[102, 'full_text'])\n",
    "print(\"\\n\")\n",
    "print(tokens)"
   ]
  },
  {
   "cell_type": "markdown",
   "metadata": {},
   "source": [
    "**Brug af `.apply()` på pandas series**\n",
    "\n",
    "Funktionen virker ikke på hele kolonnen, da funktionen er lavet til at tage et enkelt tekststykke som input (og ikke en pandas series):"
   ]
  },
  {
   "cell_type": "code",
   "execution_count": null,
   "metadata": {},
   "outputs": [],
   "source": [
    "tokenizer_spacy(tweets_df['full_text'])"
   ]
  },
  {
   "cell_type": "markdown",
   "metadata": {},
   "source": [
    "Man kan dog nemt få Pandas til at køre den samme funktion over hver celle i en kolonne med metoden `.apply()` (https://pandas.pydata.org/pandas-docs/stable/reference/api/pandas.Series.apply.html?highlight=apply#pandas.Series.apply).\n",
    "\n",
    "`.apply()` anvendes på en pandas series og tager en funktion som input. Metoden kan tænkes lig et for loop, hvor funktionen, som man angiver som input, anvendes på hver celle i kolonnen.\n",
    "\n",
    "Herunder dannes en ny kolonne (`tokens`), som dannes ved at anvende funktionen på kolonnen `full_text` med `.apply()` (OBS: Dette kan tage noget tid):"
   ]
  },
  {
   "cell_type": "code",
   "execution_count": 5,
   "metadata": {},
   "outputs": [],
   "source": [
    "tweets_df['tokens'] = tweets_df['full_text'].apply(tokenizer_spacy)"
   ]
  },
  {
   "cell_type": "markdown",
   "metadata": {},
   "source": [
    "*Tokenized data kan hentes i den skjule celle herunder:*"
   ]
  },
  {
   "cell_type": "code",
   "execution_count": null,
   "metadata": {
    "tags": []
   },
   "outputs": [],
   "source": [
    "# Indlæs tokenized data, hvis nødvendigt\n",
    "#import ast\n",
    "\n",
    "#tweets_df = pd.read_csv(\"https://raw.githubusercontent.com/CALDISS-AAU/course_ddf/master/datasets/poltweets_sample_tokens.csv\")\n",
    "#tweets_df['tokens'] = tweets_df['tokens'].apply(ast.literal_eval)"
   ]
  },
  {
   "cell_type": "markdown",
   "metadata": {},
   "source": [
    "**Fra tokens som lister til tokens som rækker**\n",
    "\n",
    "Funktionen `tokenizer_spacy` returnerer en liste af tokens. Kolonnen `tokens` indeholder derfor listen af tokens for hver tekst:"
   ]
  },
  {
   "cell_type": "code",
   "execution_count": null,
   "metadata": {},
   "outputs": [],
   "source": [
    "tweets_df['tokens'].head()"
   ]
  },
  {
   "cell_type": "markdown",
   "metadata": {},
   "source": [
    "Data er derfor ikke tidy, da vi ikke har et ord per række. Dette kan dog nemt opnås med metoden `.explode()` (https://pandas.pydata.org/pandas-docs/stable/reference/api/pandas.Series.explode.html#pandas.Series.explode). "
   ]
  },
  {
   "cell_type": "code",
   "execution_count": 6,
   "metadata": {},
   "outputs": [
    {
     "data": {
      "text/html": [
       "<div>\n",
       "<style scoped>\n",
       "    .dataframe tbody tr th:only-of-type {\n",
       "        vertical-align: middle;\n",
       "    }\n",
       "\n",
       "    .dataframe tbody tr th {\n",
       "        vertical-align: top;\n",
       "    }\n",
       "\n",
       "    .dataframe thead th {\n",
       "        text-align: right;\n",
       "    }\n",
       "</style>\n",
       "<table border=\"1\" class=\"dataframe\">\n",
       "  <thead>\n",
       "    <tr style=\"text-align: right;\">\n",
       "      <th></th>\n",
       "      <th>created_at</th>\n",
       "      <th>id</th>\n",
       "      <th>full_text</th>\n",
       "      <th>is_quote_status</th>\n",
       "      <th>retweet_count</th>\n",
       "      <th>favorite_count</th>\n",
       "      <th>favorited</th>\n",
       "      <th>retweeted</th>\n",
       "      <th>is_retweet</th>\n",
       "      <th>hashtags</th>\n",
       "      <th>urls</th>\n",
       "      <th>user_followers_count</th>\n",
       "      <th>party</th>\n",
       "      <th>tokens</th>\n",
       "    </tr>\n",
       "  </thead>\n",
       "  <tbody>\n",
       "    <tr>\n",
       "      <th>0</th>\n",
       "      <td>2020-10-21 14:48:39+00:00</td>\n",
       "      <td>1318927184111730700</td>\n",
       "      <td>Er på vej i miljøministeriet for at foreslå at...</td>\n",
       "      <td>False</td>\n",
       "      <td>13</td>\n",
       "      <td>47</td>\n",
       "      <td>False</td>\n",
       "      <td>False</td>\n",
       "      <td>False</td>\n",
       "      <td>['dkgreen']</td>\n",
       "      <td>[]</td>\n",
       "      <td>4064</td>\n",
       "      <td>Alternativet</td>\n",
       "      <td>vej</td>\n",
       "    </tr>\n",
       "    <tr>\n",
       "      <th>0</th>\n",
       "      <td>2020-10-21 14:48:39+00:00</td>\n",
       "      <td>1318927184111730700</td>\n",
       "      <td>Er på vej i miljøministeriet for at foreslå at...</td>\n",
       "      <td>False</td>\n",
       "      <td>13</td>\n",
       "      <td>47</td>\n",
       "      <td>False</td>\n",
       "      <td>False</td>\n",
       "      <td>False</td>\n",
       "      <td>['dkgreen']</td>\n",
       "      <td>[]</td>\n",
       "      <td>4064</td>\n",
       "      <td>Alternativet</td>\n",
       "      <td>miljøministerium</td>\n",
       "    </tr>\n",
       "    <tr>\n",
       "      <th>0</th>\n",
       "      <td>2020-10-21 14:48:39+00:00</td>\n",
       "      <td>1318927184111730700</td>\n",
       "      <td>Er på vej i miljøministeriet for at foreslå at...</td>\n",
       "      <td>False</td>\n",
       "      <td>13</td>\n",
       "      <td>47</td>\n",
       "      <td>False</td>\n",
       "      <td>False</td>\n",
       "      <td>False</td>\n",
       "      <td>['dkgreen']</td>\n",
       "      <td>[]</td>\n",
       "      <td>4064</td>\n",
       "      <td>Alternativet</td>\n",
       "      <td>biodiversitetsmål</td>\n",
       "    </tr>\n",
       "    <tr>\n",
       "      <th>0</th>\n",
       "      <td>2020-10-21 14:48:39+00:00</td>\n",
       "      <td>1318927184111730700</td>\n",
       "      <td>Er på vej i miljøministeriet for at foreslå at...</td>\n",
       "      <td>False</td>\n",
       "      <td>13</td>\n",
       "      <td>47</td>\n",
       "      <td>False</td>\n",
       "      <td>False</td>\n",
       "      <td>False</td>\n",
       "      <td>['dkgreen']</td>\n",
       "      <td>[]</td>\n",
       "      <td>4064</td>\n",
       "      <td>Alternativet</td>\n",
       "      <td>Danmark</td>\n",
       "    </tr>\n",
       "    <tr>\n",
       "      <th>0</th>\n",
       "      <td>2020-10-21 14:48:39+00:00</td>\n",
       "      <td>1318927184111730700</td>\n",
       "      <td>Er på vej i miljøministeriet for at foreslå at...</td>\n",
       "      <td>False</td>\n",
       "      <td>13</td>\n",
       "      <td>47</td>\n",
       "      <td>False</td>\n",
       "      <td>False</td>\n",
       "      <td>False</td>\n",
       "      <td>['dkgreen']</td>\n",
       "      <td>[]</td>\n",
       "      <td>4064</td>\n",
       "      <td>Alternativet</td>\n",
       "      <td>natur</td>\n",
       "    </tr>\n",
       "    <tr>\n",
       "      <th>0</th>\n",
       "      <td>2020-10-21 14:48:39+00:00</td>\n",
       "      <td>1318927184111730700</td>\n",
       "      <td>Er på vej i miljøministeriet for at foreslå at...</td>\n",
       "      <td>False</td>\n",
       "      <td>13</td>\n",
       "      <td>47</td>\n",
       "      <td>False</td>\n",
       "      <td>False</td>\n",
       "      <td>False</td>\n",
       "      <td>['dkgreen']</td>\n",
       "      <td>[]</td>\n",
       "      <td>4064</td>\n",
       "      <td>Alternativet</td>\n",
       "      <td>land</td>\n",
       "    </tr>\n",
       "    <tr>\n",
       "      <th>0</th>\n",
       "      <td>2020-10-21 14:48:39+00:00</td>\n",
       "      <td>1318927184111730700</td>\n",
       "      <td>Er på vej i miljøministeriet for at foreslå at...</td>\n",
       "      <td>False</td>\n",
       "      <td>13</td>\n",
       "      <td>47</td>\n",
       "      <td>False</td>\n",
       "      <td>False</td>\n",
       "      <td>False</td>\n",
       "      <td>['dkgreen']</td>\n",
       "      <td>[]</td>\n",
       "      <td>4064</td>\n",
       "      <td>Alternativet</td>\n",
       "      <td>natur</td>\n",
       "    </tr>\n",
       "    <tr>\n",
       "      <th>0</th>\n",
       "      <td>2020-10-21 14:48:39+00:00</td>\n",
       "      <td>1318927184111730700</td>\n",
       "      <td>Er på vej i miljøministeriet for at foreslå at...</td>\n",
       "      <td>False</td>\n",
       "      <td>13</td>\n",
       "      <td>47</td>\n",
       "      <td>False</td>\n",
       "      <td>False</td>\n",
       "      <td>False</td>\n",
       "      <td>['dkgreen']</td>\n",
       "      <td>[]</td>\n",
       "      <td>4064</td>\n",
       "      <td>Alternativet</td>\n",
       "      <td>hav</td>\n",
       "    </tr>\n",
       "    <tr>\n",
       "      <th>0</th>\n",
       "      <td>2020-10-21 14:48:39+00:00</td>\n",
       "      <td>1318927184111730700</td>\n",
       "      <td>Er på vej i miljøministeriet for at foreslå at...</td>\n",
       "      <td>False</td>\n",
       "      <td>13</td>\n",
       "      <td>47</td>\n",
       "      <td>False</td>\n",
       "      <td>False</td>\n",
       "      <td>False</td>\n",
       "      <td>['dkgreen']</td>\n",
       "      <td>[]</td>\n",
       "      <td>4064</td>\n",
       "      <td>Alternativet</td>\n",
       "      <td>dkgreen</td>\n",
       "    </tr>\n",
       "    <tr>\n",
       "      <th>0</th>\n",
       "      <td>2020-10-21 14:48:39+00:00</td>\n",
       "      <td>1318927184111730700</td>\n",
       "      <td>Er på vej i miljøministeriet for at foreslå at...</td>\n",
       "      <td>False</td>\n",
       "      <td>13</td>\n",
       "      <td>47</td>\n",
       "      <td>False</td>\n",
       "      <td>False</td>\n",
       "      <td>False</td>\n",
       "      <td>['dkgreen']</td>\n",
       "      <td>[]</td>\n",
       "      <td>4064</td>\n",
       "      <td>Alternativet</td>\n",
       "      <td>https://t.co/auA5QnEVkV</td>\n",
       "    </tr>\n",
       "  </tbody>\n",
       "</table>\n",
       "</div>"
      ],
      "text/plain": [
       "                  created_at                   id  \\\n",
       "0  2020-10-21 14:48:39+00:00  1318927184111730700   \n",
       "0  2020-10-21 14:48:39+00:00  1318927184111730700   \n",
       "0  2020-10-21 14:48:39+00:00  1318927184111730700   \n",
       "0  2020-10-21 14:48:39+00:00  1318927184111730700   \n",
       "0  2020-10-21 14:48:39+00:00  1318927184111730700   \n",
       "0  2020-10-21 14:48:39+00:00  1318927184111730700   \n",
       "0  2020-10-21 14:48:39+00:00  1318927184111730700   \n",
       "0  2020-10-21 14:48:39+00:00  1318927184111730700   \n",
       "0  2020-10-21 14:48:39+00:00  1318927184111730700   \n",
       "0  2020-10-21 14:48:39+00:00  1318927184111730700   \n",
       "\n",
       "                                           full_text  is_quote_status  \\\n",
       "0  Er på vej i miljøministeriet for at foreslå at...            False   \n",
       "0  Er på vej i miljøministeriet for at foreslå at...            False   \n",
       "0  Er på vej i miljøministeriet for at foreslå at...            False   \n",
       "0  Er på vej i miljøministeriet for at foreslå at...            False   \n",
       "0  Er på vej i miljøministeriet for at foreslå at...            False   \n",
       "0  Er på vej i miljøministeriet for at foreslå at...            False   \n",
       "0  Er på vej i miljøministeriet for at foreslå at...            False   \n",
       "0  Er på vej i miljøministeriet for at foreslå at...            False   \n",
       "0  Er på vej i miljøministeriet for at foreslå at...            False   \n",
       "0  Er på vej i miljøministeriet for at foreslå at...            False   \n",
       "\n",
       "   retweet_count  favorite_count  favorited  retweeted  is_retweet  \\\n",
       "0             13              47      False      False       False   \n",
       "0             13              47      False      False       False   \n",
       "0             13              47      False      False       False   \n",
       "0             13              47      False      False       False   \n",
       "0             13              47      False      False       False   \n",
       "0             13              47      False      False       False   \n",
       "0             13              47      False      False       False   \n",
       "0             13              47      False      False       False   \n",
       "0             13              47      False      False       False   \n",
       "0             13              47      False      False       False   \n",
       "\n",
       "      hashtags urls  user_followers_count         party  \\\n",
       "0  ['dkgreen']   []                  4064  Alternativet   \n",
       "0  ['dkgreen']   []                  4064  Alternativet   \n",
       "0  ['dkgreen']   []                  4064  Alternativet   \n",
       "0  ['dkgreen']   []                  4064  Alternativet   \n",
       "0  ['dkgreen']   []                  4064  Alternativet   \n",
       "0  ['dkgreen']   []                  4064  Alternativet   \n",
       "0  ['dkgreen']   []                  4064  Alternativet   \n",
       "0  ['dkgreen']   []                  4064  Alternativet   \n",
       "0  ['dkgreen']   []                  4064  Alternativet   \n",
       "0  ['dkgreen']   []                  4064  Alternativet   \n",
       "\n",
       "                    tokens  \n",
       "0                      vej  \n",
       "0         miljøministerium  \n",
       "0        biodiversitetsmål  \n",
       "0                  Danmark  \n",
       "0                    natur  \n",
       "0                     land  \n",
       "0                    natur  \n",
       "0                      hav  \n",
       "0                  dkgreen  \n",
       "0  https://t.co/auA5QnEVkV  "
      ]
     },
     "execution_count": 6,
     "metadata": {},
     "output_type": "execute_result"
    }
   ],
   "source": [
    "tweets_df_tidy = tweets_df.explode('tokens')\n",
    "\n",
    "tweets_df_tidy.head(10)"
   ]
  },
  {
   "cell_type": "markdown",
   "metadata": {},
   "source": [
    "Med data i tidy format, kan vi bruge pandas metoder til at udforske data. \n",
    "\n",
    "Optælling af ord:"
   ]
  },
  {
   "cell_type": "code",
   "execution_count": 7,
   "metadata": {},
   "outputs": [
    {
     "data": {
      "text/plain": [
       "dkpol       1827\n",
       "Danmark      237\n",
       "regering     229\n",
       "Tak          194\n",
       "dansk        168\n",
       "barn         164\n",
       "mangen       162\n",
       "gang         139\n",
       "dkgreen      128\n",
       "penge        125\n",
       "Name: tokens, dtype: int64"
      ]
     },
     "execution_count": 7,
     "metadata": {},
     "output_type": "execute_result"
    }
   ],
   "source": [
    "tweets_df_tidy['tokens'].value_counts()[0:10]"
   ]
  },
  {
   "cell_type": "markdown",
   "metadata": {},
   "source": [
    "Med et for loop, kan vi også lave optællinger inden for forskellige grupperinger (herunder politisk parti):"
   ]
  },
  {
   "cell_type": "code",
   "execution_count": 8,
   "metadata": {},
   "outputs": [
    {
     "name": "stdout",
     "output_type": "stream",
     "text": [
      "----Top 10 tokens for ALTERNATIVET----\n",
      "\n",
      "dkpol       170\n",
      "dksocial     46\n",
      "dkgreen      31\n",
      "Tak          23\n",
      "grøn         19\n",
      "regering     16\n",
      "udsætte      14\n",
      "gang         13\n",
      "barn         13\n",
      "arbejde      13\n",
      "Name: tokens, dtype: int64\n",
      "\n",
      "\n",
      "----Top 10 tokens for DANSK FOLKEPARTI----\n",
      "\n",
      "dkpol       211\n",
      "Danmark      33\n",
      "regering     21\n",
      "dansk        20\n",
      "mangen       19\n",
      "dansker      17\n",
      "gang         15\n",
      "land         13\n",
      "dkmedier     13\n",
      "Tak          12\n",
      "Name: tokens, dtype: int64\n",
      "\n",
      "\n",
      "----Top 10 tokens for DET KONSERVATIVE FOLKEPARTI----\n",
      "\n",
      "dkpol         100\n",
      "Tak            31\n",
      "mangen         18\n",
      "dansk          15\n",
      "regering       14\n",
      "enig           13\n",
      "gang           13\n",
      "Danmark        12\n",
      "hele           11\n",
      "virksomhed     11\n",
      "Name: tokens, dtype: int64\n",
      "\n",
      "\n",
      "----Top 10 tokens for ENHEDSLISTEN----\n",
      "\n",
      "dkpol           200\n",
      "dkgreen          32\n",
      "regering         30\n",
      "Enhedslisten     20\n",
      "brug             20\n",
      "vigtig           18\n",
      "penge            17\n",
      "barn             16\n",
      "grøn             16\n",
      "gang             15\n",
      "Name: tokens, dtype: int64\n",
      "\n",
      "\n",
      "----Top 10 tokens for LIBERAL ALLIANCE----\n",
      "\n",
      "dkpol       171\n",
      "penge        25\n",
      "regering     19\n",
      "høj          17\n",
      "tid          17\n",
      "mangen       16\n",
      "problem      15\n",
      "Danmark      14\n",
      "skatte       14\n",
      "parti        13\n",
      "Name: tokens, dtype: int64\n",
      "\n",
      "\n",
      "----Top 10 tokens for NYE BORGERLIGE----\n",
      "\n",
      "dkpol         108\n",
      "Danmark        53\n",
      "Nye            52\n",
      "Borgerlige     37\n",
      "dansker        31\n",
      "dansk          30\n",
      "politiker      26\n",
      "dkmedier       25\n",
      "barn           21\n",
      "land           20\n",
      "Name: tokens, dtype: int64\n",
      "\n",
      "\n",
      "----Top 10 tokens for RADIKALE VENSTRE----\n",
      "\n",
      "dkpol      132\n",
      "Tak         26\n",
      "dansk       17\n",
      "megen       14\n",
      "mangen      13\n",
      "barn        13\n",
      "radikal     13\n",
      "Danmark     13\n",
      "gode        13\n",
      "hele        12\n",
      "Name: tokens, dtype: int64\n",
      "\n",
      "\n",
      "----Top 10 tokens for SOCIALDEMOKRATIET----\n",
      "\n",
      "dkpol       190\n",
      "regering     23\n",
      "mangen       21\n",
      "Tak          21\n",
      "gang         20\n",
      "Danmark      20\n",
      "barn         19\n",
      "stærk        12\n",
      "valg         11\n",
      "God          11\n",
      "Name: tokens, dtype: int64\n",
      "\n",
      "\n",
      "----Top 10 tokens for SOCIALISTISK FOLKEPARTI----\n",
      "\n",
      "dkpol      172\n",
      "barn        34\n",
      "forslag     20\n",
      "mangen      20\n",
      "brug        20\n",
      "dkgreen     18\n",
      "tid         18\n",
      "vigtig      18\n",
      "grøn        17\n",
      "vej         17\n",
      "Name: tokens, dtype: int64\n",
      "\n",
      "\n",
      "----Top 10 tokens for UDEN FOR FOLKETINGSGRUPPERNE----\n",
      "\n",
      "dkpol       164\n",
      "Tak          30\n",
      "Danmark      30\n",
      "dkmedier     22\n",
      "grøn         22\n",
      "gang         19\n",
      "dkgreen      18\n",
      "regering     18\n",
      "dansk        18\n",
      "barn         18\n",
      "Name: tokens, dtype: int64\n",
      "\n",
      "\n",
      "----Top 10 tokens for VENSTRE----\n",
      "\n",
      "dkpol       209\n",
      "regering     39\n",
      "Danmark      25\n",
      "dansk        21\n",
      "Tak          21\n",
      "valg         17\n",
      "dansker      17\n",
      ":-)          14\n",
      "gang         13\n",
      "megen        13\n",
      "Name: tokens, dtype: int64\n",
      "\n",
      "\n"
     ]
    }
   ],
   "source": [
    "for party in tweets_df_tidy['party'].unique():\n",
    "    print(f\"----Top 10 tokens for {party.upper()}----\\n\")\n",
    "    print(tweets_df_tidy.loc[tweets_df_tidy['party'] == party, 'tokens'].value_counts()[0:10])\n",
    "    print(\"\\n\")"
   ]
  },
  {
   "cell_type": "markdown",
   "metadata": {},
   "source": [
    "Vi kan med dette format også nemt finde tweets, der indeholder bestemte ord med `.isin()`:"
   ]
  },
  {
   "cell_type": "code",
   "execution_count": 9,
   "metadata": {},
   "outputs": [
    {
     "data": {
      "text/plain": [
       "Socialistisk Folkeparti         14\n",
       "Enhedslisten                    12\n",
       "Det Konservative Folkeparti      9\n",
       "Alternativet                     8\n",
       "Dansk Folkeparti                 5\n",
       "Uden for folketingsgrupperne     5\n",
       "Liberal Alliance                 4\n",
       "Venstre                          3\n",
       "Socialdemokratiet                3\n",
       "Radikale Venstre                 3\n",
       "Nye Borgerlige                   1\n",
       "Name: party, dtype: int64"
      ]
     },
     "execution_count": 9,
     "metadata": {},
     "output_type": "execute_result"
    }
   ],
   "source": [
    "keywords = ['klima', 'miljø'] # Ord til at søge efter\n",
    "\n",
    "tweets_df_tidy.loc[tweets_df_tidy['tokens'].isin(keywords), 'party'].value_counts() # Optælling af specifikke ord for hvert party"
   ]
  },
  {
   "cell_type": "markdown",
   "metadata": {},
   "source": [
    "Ovenstånde kan også plottes:"
   ]
  },
  {
   "cell_type": "code",
   "execution_count": 12,
   "metadata": {},
   "outputs": [
    {
     "data": {
      "text/plain": [
       "<AxesSubplot:>"
      ]
     },
     "execution_count": 12,
     "metadata": {},
     "output_type": "execute_result"
    },
    {
     "data": {
      "image/png": "[encoded data removed]",
      "text/plain": [
       "<Figure size 1440x864 with 1 Axes>"
      ]
     },
     "metadata": {},
     "output_type": "display_data"
    }
   ],
   "source": [
    "tweets_df_tidy.loc[tweets_df_tidy['tokens'].isin(keywords), 'party'].value_counts().plot.bar()"
   ]
  },
  {
   "cell_type": "markdown",
   "metadata": {},
   "source": [
    "# ØVELSE 4: Tidy text data (reddit data)\n",
    "\n",
    "Du skal nu anvende din funktion fra før på alle *kommentarerne* i reddit datasættet (kolonnen `comment_body`)\n",
    "\n",
    "1. Brug `.apply()` til at anvende din tokenizer funktion på hele reddit datasættet til at lave en tokens kolonne (det kan være en god ide at teste funktionen med en enkelt kommentar først)\n",
    "2. Brug `.explode()` til at konvertere data til et tidy format\n",
    "3. Brug `.value_counts()` til at optælle tokens\n",
    "\n",
    "**Bonus**\n",
    "\n",
    "- Undersøg, hvor mange gange coronavirus er nævnt (tænkt gerne synonymer med!)"
   ]
  }
 ],
 "metadata": {
  "kernelspec": {
   "display_name": "Python 3",
   "language": "python",
   "name": "python3"
  },
  "language_info": {
   "codemirror_mode": {
    "name": "ipython",
    "version": 3
   },
   "file_extension": ".py",
   "mimetype": "text/x-python",
   "name": "python",
   "nbconvert_exporter": "python",
   "pygments_lexer": "ipython3",
   "version": "3.7.9"
  }
 },
 "nbformat": 4,
 "nbformat_minor": 4
}
