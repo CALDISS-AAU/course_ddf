{
 "cells": [
  {
   "cell_type": "markdown",
   "metadata": {},
   "source": [
    "# Eksplorative metoder og tidsserier\n",
    "\n",
    "**Formål**\n",
    "- Kunne arbejde med tidsserier\n",
    "- Visualisere tidsserier på forskellig vis\n",
    "- Bruge forskellige visualiseringer\n",
    "- Brug af anomaly detection til at udforske interessante punkter i data\n",
    "\n",
    "**Indhold**\n",
    "  - Introduktion til visualisering med plotnine\n",
    "  - Overvejelser ved visualiseringer (Andy Kirk)\n",
    "  - At arbejde med tidsserier i pandas\n",
    "    - Tidsindeksering og datetime\n",
    "    - Grupperinger på tid\n",
    "    - Kombination af data på tid\n",
    "    - Windows/rolling (https://pandas.pydata.org/pandas-docs/stable/user_guide/window.html#window-numba-engine)\n",
    "      - \"Rullende\" udregninger baseret på tidligere observationer - gode til at visualisere trends i tidsserier, da outliers ikke skaber store udsving i visualiseringen\n",
    "- Anomaly detection: https://www.datatechnotes.com/2020/05/anomaly-detection-with-kmeans-in-python.html\n",
    "\n",
    "**Moduler?**\n",
    "- Introduktion\n",
    "- Overvejelser om visualiseringer\n",
    "- Introduktion til visualiseringer med plotnine\n",
    "- At arbejde med tidsserier i pandas\n",
    "- Udforskning af tidsserier med visualiseringer\n",
    "- Udforskning af tidsserier med anomaly detection\n",
    "\n",
    "**Data**\n",
    "- Intro til visualisering: ESS18\n",
    "    - Øvelse: ESS18\n",
    "- Tidsserier: Aktiedata og reddit-data\n",
    "    - Øvelse: Reddit-data\n",
    "- Tidsserier og visualieringer: Aktiedata og twitter-data\n",
    "    - Øvelse: Reddit-data\n",
    "- Tidsserier og anomaly detection: Aktiedata og twitter-data\n",
    "    - Øvelse: Reddit-data"
   ]
  },
  {
   "cell_type": "markdown",
   "metadata": {},
   "source": [
    "## EDA\n",
    "\n",
    "From R4Ds (https://r4ds.had.co.nz/exploratory-data-analysis.html#exploratory-data-analysis):\n",
    "\"EDA is an iterative cycle. You:\n",
    "\n",
    "    Generate questions about your data.\n",
    "\n",
    "    Search for answers by visualising, transforming, and modelling your data.\n",
    "\n",
    "    Use what you learn to refine your questions and/or generate new questions.\n",
    "\n",
    "EDA is not a formal process with a strict set of rules. More than anything, EDA is a state of mind. During the initial phases of EDA you should feel free to investigate every idea that occurs to you. Some of these ideas will pan out, and some will be dead ends. As your exploration continues, you will home in on a few particularly productive areas that you’ll eventually write up and communicate to others.\n",
    "\n",
    "EDA is an important part of any data analysis, even if the questions are handed to you on a platter, because you always need to investigate the quality of your data. Data cleaning is just one application of EDA: you ask questions about whether your data meets your expectations or not. To do data cleaning, you’ll need to deploy all the tools of EDA: visualisation, transformation, and modelling.\"\n",
    "\n"
   ]
  },
  {
   "cell_type": "code",
   "execution_count": null,
   "metadata": {},
   "outputs": [],
   "source": []
  }
 ],
 "metadata": {
  "kernelspec": {
   "display_name": "Python 3",
   "language": "python",
   "name": "python3"
  },
  "language_info": {
   "codemirror_mode": {
    "name": "ipython",
    "version": 3
   },
   "file_extension": ".py",
   "mimetype": "text/x-python",
   "name": "python",
   "nbconvert_exporter": "python",
   "pygments_lexer": "ipython3",
   "version": "3.7.9"
  }
 },
 "nbformat": 4,
 "nbformat_minor": 4
}
