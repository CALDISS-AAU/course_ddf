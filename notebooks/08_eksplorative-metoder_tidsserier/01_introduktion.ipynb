{
 "cells": [
  {
   "cell_type": "markdown",
   "metadata": {},
   "source": [
    "# Eksplorative metoder og tidsserier\n",
    "\n",
    "**Formål**\n",
    "- Kunne arbejde med tidsserier\n",
    "- Visualisere tidsserier på forskellig vis\n",
    "- Bruge forskellige visualiseringer\n",
    "- Brug af anomaly detection til at udforske interessante punkter i data\n",
    "\n",
    "**Indhold**\n",
    "  - Introduktion til visualisering med plotnine\n",
    "  - Overvejelser ved visualiseringer (Andy Kirk)\n",
    "  - At arbejde med tidsserier i pandas\n",
    "    - Tidsindeksering og datetime\n",
    "    - Grupperinger på tid\n",
    "    - Kombination af data på tid\n",
    "    - Windows/rolling (https://pandas.pydata.org/pandas-docs/stable/user_guide/window.html#window-numba-engine)\n",
    "      - \"Rullende\" udregninger baseret på tidligere observationer - gode til at visualisere trends i tidsserier, da outliers ikke skaber store udsving i visualiseringen\n",
    "- Anomaly detection: https://www.datatechnotes.com/2020/05/anomaly-detection-with-kmeans-in-python.html\n",
    "\n",
    "**Moduler?**\n",
    "- Introduktion\n",
    "- Overvejelser om visualiseringer\n",
    "- Introduktion til visualiseringer med plotnine\n",
    "- At arbejde med tidsserier i pandas\n",
    "- Udforskning af tidsserier med visualiseringer\n",
    "- Udforskning af tidsserier med anomaly detection\n",
    "\n",
    "**Data**\n",
    "- Intro til visualisering: ESS18\n",
    "    - Øvelse: ESS18\n",
    "- Tidsserier: Aktiedata og reddit-data\n",
    "    - Øvelse: Reddit-data\n",
    "- Tidsserier og visualieringer: Aktiedata og twitter-data\n",
    "    - Øvelse: Reddit-data\n",
    "- Tidsserier og anomaly detection: Aktiedata og twitter-data\n",
    "    - Øvelse: Reddit-data"
   ]
  },
  {
   "cell_type": "code",
   "execution_count": null,
   "metadata": {},
   "outputs": [],
   "source": []
  }
 ],
 "metadata": {
  "kernelspec": {
   "display_name": "Python 3",
   "language": "python",
   "name": "python3"
  },
  "language_info": {
   "codemirror_mode": {
    "name": "ipython",
    "version": 3
   },
   "file_extension": ".py",
   "mimetype": "text/x-python",
   "name": "python",
   "nbconvert_exporter": "python",
   "pygments_lexer": "ipython3",
   "version": "3.7.9"
  }
 },
 "nbformat": 4,
 "nbformat_minor": 4
}
