{
 "cells": [
  {
   "cell_type": "markdown",
   "metadata": {
    "slideshow": {
     "slide_type": "slide"
    }
   },
   "source": [
    "# Eksplorativ dataanalyse og visualisering"
   ]
  },
  {
   "cell_type": "markdown",
   "metadata": {
    "slideshow": {
     "slide_type": "slide"
    }
   },
   "source": [
    "## Hvad er \"eksplorativ data analyse\" (EDA)?\n",
    "\n",
    "[Wickham & Grolemund](https://r4ds.had.co.nz/exploratory-data-analysis.html#exploratory-data-analysis):\n",
    "\n",
    ">EDA is an iterative cycle. You:\n",
    ">1. Generate questions about your data.\n",
    ">2. Search for answers by visualising, transforming, and modelling your data.\n",
    ">3. Use what you learn to refine your questions and/or generate new questions.\n",
    "\n",
    "- Udforskende, nysgerrigt, til dels uformelt\n",
    "\n",
    "> “Far better an approximate answer to the right question, which is often vague, than an exact answer to the wrong question, which can always be made precise.” - John Tukey\n",
    "\n",
    "- Involverer både visualisering, datahåndtering/-transformation og modellering\n",
    "\n",
    "> \"A good analyst will have that special blend of natural inquisitiveness and the sense to know what approaches (statistical or visual) to employ and when\" - Andy Kirk"
   ]
  },
  {
   "cell_type": "markdown",
   "metadata": {
    "slideshow": {
     "slide_type": "slide"
    }
   },
   "source": [
    "## Data visualisering\n",
    "\n",
    "**Definition**: \"The representation and presentation of data to facilitate understanding\" (Kirk 2016)\n",
    "\n",
    "- Data må præsenteres i andre visuelle former for at udlede meningsfulde indsigter fra det\n",
    "\n",
    "### \"Marks\" and \"attributes\" \n",
    "\n",
    "Der adskilles mellem to hovedkomponenter i en datavisualisering:\n",
    "- Marks: Formene brugt til at repræsentere data (punkter, linjer, områder, søjler osv.)\n",
    "- Attributes: Egenskaber ved formene (størrelse, farve, placering osv.)"
   ]
  }
 ],
 "metadata": {
  "kernelspec": {
   "display_name": "Python 3",
   "language": "python",
   "name": "python3"
  },
  "language_info": {
   "codemirror_mode": {
    "name": "ipython",
    "version": 3
   },
   "file_extension": ".py",
   "mimetype": "text/x-python",
   "name": "python",
   "nbconvert_exporter": "python",
   "pygments_lexer": "ipython3",
   "version": "3.7.9"
  }
 },
 "nbformat": 4,
 "nbformat_minor": 4
}
