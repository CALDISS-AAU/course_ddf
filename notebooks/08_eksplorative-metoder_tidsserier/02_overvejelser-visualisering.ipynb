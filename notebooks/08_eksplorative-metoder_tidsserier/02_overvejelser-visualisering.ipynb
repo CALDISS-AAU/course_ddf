{
 "cells": [
  {
   "cell_type": "markdown",
   "metadata": {},
   "source": [
    "# Visualisering\n",
    "\n",
    "- https://r4ds.had.co.nz/graphics-for-communication.html\n",
    "\n",
    "\n",
    "Fra \"exploratory graphic into an expository graphic\":\n",
    "- Brug af labels\n",
    "- Annotationer\n",
    "- Legend\n",
    "- Zooming:\n",
    "    - Adjusting what data are plotted\n",
    "    - Setting the limits in each scale\n",
    "    - Setting xlim and ylim in coord_cartesian()\n"
   ]
  },
  {
   "cell_type": "code",
   "execution_count": null,
   "metadata": {},
   "outputs": [],
   "source": []
  }
 ],
 "metadata": {
  "kernelspec": {
   "display_name": "Python 3",
   "language": "python",
   "name": "python3"
  },
  "language_info": {
   "codemirror_mode": {
    "name": "ipython",
    "version": 3
   },
   "file_extension": ".py",
   "mimetype": "text/x-python",
   "name": "python",
   "nbconvert_exporter": "python",
   "pygments_lexer": "ipython3",
   "version": "3.7.9"
  }
 },
 "nbformat": 4,
 "nbformat_minor": 4
}
