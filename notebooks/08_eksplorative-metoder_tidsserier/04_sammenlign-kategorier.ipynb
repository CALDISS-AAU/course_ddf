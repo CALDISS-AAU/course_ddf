{
 "cells": [
  {
   "cell_type": "markdown",
   "id": "separated-arnold",
   "metadata": {},
   "source": [
    "# Sammenligning af kategorier og fordelinger\n",
    "\n",
    "**Indhold**\n",
    "- Histogram\n",
    "- Box-and-whisker plot\n",
    "- Univariate scatterplot/jitterplot\n",
    "- Bar chart (og stacked bar chart)"
   ]
  },
  {
   "cell_type": "code",
   "execution_count": null,
   "id": "finite-event",
   "metadata": {},
   "outputs": [],
   "source": []
  }
 ],
 "metadata": {
  "kernelspec": {
   "display_name": "Python 3",
   "language": "python",
   "name": "python3"
  },
  "language_info": {
   "codemirror_mode": {
    "name": "ipython",
    "version": 3
   },
   "file_extension": ".py",
   "mimetype": "text/x-python",
   "name": "python",
   "nbconvert_exporter": "python",
   "pygments_lexer": "ipython3",
   "version": "3.7.9"
  }
 },
 "nbformat": 4,
 "nbformat_minor": 5
}
