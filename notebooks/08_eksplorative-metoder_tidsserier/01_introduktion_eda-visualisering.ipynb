{
 "cells": [
  {
   "cell_type": "markdown",
   "metadata": {
    "slideshow": {
     "slide_type": "slide"
    }
   },
   "source": [
    "# Eksplorativ dataanalyse og visualisering"
   ]
  },
  {
   "cell_type": "markdown",
   "metadata": {
    "slideshow": {
     "slide_type": "slide"
    }
   },
   "source": [
    "## Hvad er \"eksplorativ data analyse\" (EDA)?\n",
    "\n",
    "[Wickham & Grolemund](https://r4ds.had.co.nz/exploratory-data-analysis.html#exploratory-data-analysis):\n",
    "\n",
    ">EDA is an iterative cycle. You:\n",
    ">1. Generate questions about your data.\n",
    ">2. Search for answers by visualising, transforming, and modelling your data.\n",
    ">3. Use what you learn to refine your questions and/or generate new questions.\n",
    "\n",
    "- Udforskende, nysgerrigt, til dels uformelt\n",
    "\n",
    "> “Far better an approximate answer to the right question, which is often vague, than an exact answer to the wrong question, which can always be made precise.” - John Tukey\n",
    "\n",
    "- Involverer både visualisering, datahåndtering/-transformation og modellering\n",
    "\n",
    "> \"A good analyst will have that special blend of natural inquisitiveness and the sense to know what approaches (statistical or visual) to employ and when\" - Andy Kirk"
   ]
  },
  {
   "cell_type": "markdown",
   "metadata": {
    "slideshow": {
     "slide_type": "slide"
    }
   },
   "source": [
    "## Data visualisering\n",
    "\n",
    "**Definition**: \"The representation and presentation of data to facilitate understanding\" (Kirk 2016)\n",
    "\n",
    "- Data må præsenteres i andre visuelle former for at udlede meningsfulde indsigter fra det\n",
    "\n",
    "### \"Marks\" and \"attributes\" \n",
    "\n",
    "Der adskilles mellem to hovedkomponenter i en datavisualisering:\n",
    "- Marks: Formene brugt til at repræsentere data (punkter, linjer, områder, søjler osv.)\n",
    "- Attributes: Egenskaber ved formene (størrelse, farve, placering osv.)"
   ]
  },
  {
   "cell_type": "markdown",
   "metadata": {
    "slideshow": {
     "slide_type": "slide"
    }
   },
   "source": [
    "# Overvejelser om data visualisering"
   ]
  },
  {
   "cell_type": "markdown",
   "metadata": {
    "slideshow": {
     "slide_type": "slide"
    }
   },
   "source": [
    "## Tre principper for godt visualiseringsdesign (Kirk 2016)\n",
    "\n",
    "**1. Good data visualisation is trustworthy**\n",
    "\n",
    "**2. Good data visualisation is accessible**\n",
    "\n",
    "**3. Good data visualisation is elegant**"
   ]
  },
  {
   "cell_type": "markdown",
   "metadata": {
    "slideshow": {
     "slide_type": "slide"
    }
   },
   "source": [
    "![gundeaths](https://raw.githubusercontent.com/CALDISS-AAU/course_ddf/master/notebooks/img/gun-deaths_bad-good2.png)"
   ]
  },
  {
   "cell_type": "markdown",
   "metadata": {
    "slideshow": {
     "slide_type": "slide"
    }
   },
   "source": [
    "![map_notmap](http://www.charlesapple.com/uploads/2014/04/1404Demographics.jpg)"
   ]
  },
  {
   "cell_type": "markdown",
   "metadata": {
    "slideshow": {
     "slide_type": "slide"
    }
   },
   "source": [
    "![cat_overflow](https://s3.thingpic.com/images/PF/3Nvg9iwFQYpJtrqrvy6Z2WuY.png)"
   ]
  },
  {
   "cell_type": "markdown",
   "metadata": {
    "slideshow": {
     "slide_type": "slide"
    }
   },
   "source": [
    "![design_overflow](https://3.bp.blogspot.com/-d0NaQtO0kZw/VqgslwuG7iI/AAAAAAAADo4/CcDbq22cpc0/s1600/bad-data-visualization-example.png)"
   ]
  },
  {
   "cell_type": "markdown",
   "metadata": {
    "slideshow": {
     "slide_type": "slide"
    }
   },
   "source": [
    "![bad_circle](https://raw.githubusercontent.com/CALDISS-AAU/course_ddf/master/notebooks/img/bad-circlediagram.png)"
   ]
  },
  {
   "cell_type": "markdown",
   "metadata": {
    "slideshow": {
     "slide_type": "slide"
    }
   },
   "source": [
    "## Overvej formålet med visualiseringen\n",
    "\n",
    "**Explanatory**\n",
    "- Sætter fokus på centrale fund i data\n",
    "- Vejleder læseren\n",
    "\n",
    "**Exploratory**\n",
    "- Gør det muligt for læser selv at gøre fund\n",
    "- Ofte interaktivt\n",
    "\n",
    "**Exhibitory**\n",
    "- Minimal vejledning\n",
    "- Antager at læser har tilstrækkelig domæneviden til at aflæse visualiseringen"
   ]
  },
  {
   "cell_type": "markdown",
   "metadata": {
    "slideshow": {
     "slide_type": "slide"
    }
   },
   "source": [
    "## Overvej publikum/læseren\n",
    "\n",
    "**3 stadier: Opfattelse -> Fortolkning -> Forståelse**\n",
    "\n",
    "**Opfattelse**: Hvad viser visualiseringen? Hvad lægger man mærke til?\n",
    "\n",
    "**Fortolkning**: Hvad betyder det? Har læseren nødvendig domæneviden til at vide, hvad det betyder?\n",
    "\n",
    "**Forståelse**: Hvad konkluderer man ud fra visualiseringen?\n",
    "\n",
    "> \"To help *perceiving*, viewers need the context of scale. To help with *interpreting*, viewers need the context of subject, whether that is provided by the visualiser or the viewer themself\" (Kirk 2016)"
   ]
  },
  {
   "cell_type": "markdown",
   "metadata": {
    "slideshow": {
     "slide_type": "slide"
    }
   },
   "source": [
    "## Konkrete overvejelser i en visualisering\n",
    "\n",
    "**Funktionelle vs. dekorative valg**\n",
    "- Hvad understøtter fortolkning? Hvad er bare pynt?\n",
    "\n",
    "**Fokus**\n",
    "- Hvilke dele af visualiseringen er interessant? Kan den tilskæres?\n",
    "\n",
    "**Diagramtype**\n",
    "- Er diagramtypen den rette for at kommunikere budskabet?\n",
    "\n",
    "**Kategorising/inddeling af data**\n",
    "- Hvor detaljeret behøver oplysingerne være for at kommunikere budskabet?"
   ]
  },
  {
   "cell_type": "markdown",
   "metadata": {
    "slideshow": {
     "slide_type": "slide"
    }
   },
   "source": [
    "## Fra \"exploratory graphic\" til \"expository graphic\"\n",
    "\n",
    "**Brug af labels**\n",
    "- Forklar de forskellige elementer i grafen (fx akserne)\n",
    "\n",
    "**Forklaring af legend**\n",
    "- Kræves yderligere forklaring for at forstå datapunkterne?\n",
    "\n",
    "**Annotationer**\n",
    "- Er der opmærksomhedspunkter, som bør tydeliggøres?\n",
    "\n",
    "**Brug af zooming**\n",
    "- Justering af data, som skal vises (er al data relevant?)"
   ]
  },
  {
   "cell_type": "markdown",
   "metadata": {
    "slideshow": {
     "slide_type": "slide"
    }
   },
   "source": [
    "![img7](https://external-content.duckduckgo.com/iu/?u=https%3A%2F%2Fimages.huffingtonpost.com%2F2014-07-16-WC_viz7.png)"
   ]
  }
 ],
 "metadata": {
  "kernelspec": {
   "display_name": "Python 3",
   "language": "python",
   "name": "python3"
  },
  "language_info": {
   "codemirror_mode": {
    "name": "ipython",
    "version": 3
   },
   "file_extension": ".py",
   "mimetype": "text/x-python",
   "name": "python",
   "nbconvert_exporter": "python",
   "pygments_lexer": "ipython3",
   "version": "3.7.9"
  }
 },
 "nbformat": 4,
 "nbformat_minor": 4
}
