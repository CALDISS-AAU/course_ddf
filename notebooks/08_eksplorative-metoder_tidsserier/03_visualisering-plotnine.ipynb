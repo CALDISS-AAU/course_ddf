{
 "cells": [
  {
   "cell_type": "markdown",
   "metadata": {},
   "source": [
    "# Visualisering med `plotnine`\n",
    "\n",
    "**Indhold:**\n",
    "- Hvad er plotnine? (sammenhæng med ggplot)\n",
    "    - Fordele/ulemper\n",
    "- Import af plotnine\n",
    "- Brug af plotnine (simpelt plot med x og y)\n",
    "- Forklaring af mappings: x, y, fill, colour, shape, size\n",
    "- Forklaring af geom\n",
    "    - geoms i flere lag\n",
    "- Tilpasning (forklaringer)\n",
    "    - Labels\n",
    "    - Legend\n",
    "    - Scales (nævn)"
   ]
  },
  {
   "cell_type": "markdown",
   "metadata": {},
   "source": [
    "## Hvad er `plotnine`?"
   ]
  },
  {
   "cell_type": "markdown",
   "metadata": {},
   "source": [
    "## Introduktion til plotnine\n",
    "\n",
    "- ggplot2\n",
    "- grammar of graphics\n",
    "- meget versatilt\n",
    "- kan være lidt komplekst"
   ]
  },
  {
   "cell_type": "code",
   "execution_count": null,
   "metadata": {},
   "outputs": [],
   "source": [
    "import pandas as pd\n",
    "\n",
    "ess2018 = pd.read_csv(\"https://github.com/CALDISS-AAU/course_ddf/raw/master/datasets/ESS2018DK_subset.csv\")\n",
    "ess2018.head()"
   ]
  },
  {
   "cell_type": "markdown",
   "metadata": {},
   "source": [
    "### Import\n",
    "\n",
    "Som alle andre pakker, skal plotnine importeres. I nedenstående importeres plotnine, og indstillingen for størrelsen af plot ændres:"
   ]
  },
  {
   "cell_type": "code",
   "execution_count": null,
   "metadata": {},
   "outputs": [],
   "source": [
    "import plotnine\n",
    "plotnine.options.figure_size = (12, 10)"
   ]
  },
  {
   "cell_type": "markdown",
   "metadata": {},
   "source": [
    "Fordi `plotnine` er en konvertering af R-pakken `ggplot2`, er alle funktioner og metoder en del af `plotnine`. I stedet for at skulle skrive `plotnine` foran hver eneste metode/kommando, er det derfor en fordel at importere de dele, man skal bruge.\n",
    "\n",
    "Det kan være svært at vide i starten præcist hvilke, man får brug for, så ofte vil det blive nødvendigt at gå tilbage og importere mere fra `plotnine`.\n",
    "\n",
    "Her importeres de nødvendige \"komponenter\" for at danne et scatterplot:"
   ]
  },
  {
   "cell_type": "code",
   "execution_count": null,
   "metadata": {},
   "outputs": [],
   "source": [
    "from plotnine import ggplot, aes, geom_point"
   ]
  },
  {
   "cell_type": "markdown",
   "metadata": {},
   "source": [
    "Herunder dannes scatterplottet: "
   ]
  },
  {
   "cell_type": "code",
   "execution_count": null,
   "metadata": {},
   "outputs": [],
   "source": [
    "ess2018_filt = ess2018.loc[ess2018['grspnum'] <= 200000, :] # Sorterer ekstreme værdier fra (max 200000 om måneden)\n",
    "\n",
    "(ggplot(data = ess2018_filt, mapping = aes(x = 'eduyrs', y = 'grspnum')) \n",
    " + geom_point())"
   ]
  },
  {
   "cell_type": "markdown",
   "metadata": {},
   "source": [
    "### Opbygning af et ggplot\n",
    "\n",
    "Der er ufattelig mange måder at lave og tilpasse plots med ggplot/plotnine. Et ggplot følger dog som hovedregel denne skabelon:\n",
    "\n",
    "```\n",
    "ggplot(data = <DATA>, mapping = aes(<MAPPINGS>)) + \n",
    "  <GEOM_FUNCTION>(mapping = aes(<MAPPINGS>))\n",
    "```\n",
    "\n",
    "- **ggplot**: Hovedfunktionen. Denne funktion indrammer, hvad der skal indgå i plottet. Funktionen `ggplot` indeholder i sig selv ikke information om, hvilken type plot det er. Dette angives med en geom funktion.\n",
    "    - *data*: Det primære argument til ggplot er data, der skal bruges. Der forventes en pandas data frame.\n",
    "\n",
    "\n",
    "- **mapping**: Argument. Her \"mappes\" oplysninger (aes: \"aesthetics\") i data til plottet. De primære mappings er `x` og `y`, som bestemmer akserne. Derudover findes også `colour`, `fill`, `shape`, `size`. Mapping angives altid med `aes(MAPPINGS)` (fx `aes(x = 'eduyrs', y = 'grspnum')`). Mapping kan både angives som argument i ggplot eller for den enkelte geom funktion. Forskellen er, om mappingen skal gælde for hele plottet eller blot specifikke geom funktioner.\n",
    "\n",
    "\n",
    "- **GEOM_FUNCTION (fx geom_point)**: Plottingfunktion. Et \"geom\" er den geometriske størrelse brugt til at repræsentere data (søjer, linjer, boxplots, punkter osv.). Det er muligt at have flere geom funktioner (flere lag) i samme plot.\n",
    "    - *mapping*: Alle geom funktioner i ggplot accepterer et mapping argument. Det er dog ikke alle aesthetics, der virker med alle geoms. Fx giver det ikke mening at mappe en variabel til y-aksen i et histogram, eller bestemme formen (shape) for en linje."
   ]
  },
  {
   "cell_type": "markdown",
   "metadata": {},
   "source": [
    "## Aesthetics i ggplot/plotnine\n",
    "\n",
    "\"Aesthetics\" er som nævnt de forskellige oplysninger i data, som skal plottes på en eller anden måde. I det tidligere eksempel blev `x` og `y` fx brugt til at angive hhv. x-aksen og y-aksen i plottet:"
   ]
  },
  {
   "cell_type": "code",
   "execution_count": null,
   "metadata": {},
   "outputs": [],
   "source": [
    "(ggplot(data = ess2018_filt, mapping = aes(x = 'eduyrs', y = 'grspnum')) \n",
    " + geom_point())"
   ]
  },
  {
   "cell_type": "markdown",
   "metadata": {},
   "source": [
    "#### Colour / fill\n",
    "\n",
    "`colour` og `fill` bruges til at farvelægge efter en tredje variabel.\n",
    "\n",
    "`colour` bruges typisk til at bestemme omridset af formerne, mens `fill` er farven, som formerne fyldes ud med (for `geom_point` gør det ikke nogen forskel)."
   ]
  },
  {
   "cell_type": "code",
   "execution_count": null,
   "metadata": {},
   "outputs": [],
   "source": [
    "(ggplot(data = ess2018_filt, mapping = aes(x = 'eduyrs', y = 'grspnum', fill = 'gndr')) \n",
    " + geom_point())"
   ]
  },
  {
   "cell_type": "markdown",
   "metadata": {},
   "source": [
    "#### Shape\n",
    "\n",
    "En `shape` aesthetic tildeler en unik figur/form til hver kategori i variablen:"
   ]
  },
  {
   "cell_type": "code",
   "execution_count": null,
   "metadata": {},
   "outputs": [],
   "source": [
    "(ggplot(data = ess2018_filt, mapping = aes(x = 'eduyrs', y = 'grspnum', shape = 'edlvddk')) \n",
    " + geom_point())"
   ]
  },
  {
   "cell_type": "markdown",
   "metadata": {},
   "source": [
    "#### Size\n",
    "\n",
    "En `size` aesthetic ændrer størrelsen på en figur/form afhængig af en værdien i en numerisk variabel:"
   ]
  },
  {
   "cell_type": "code",
   "execution_count": null,
   "metadata": {},
   "outputs": [],
   "source": [
    "(ggplot(data = ess2018_filt, mapping = aes(x = 'eduyrs', y = 'grspnum', size = 'netustm')) \n",
    " + geom_point())"
   ]
  },
  {
   "cell_type": "markdown",
   "metadata": {},
   "source": [
    "### Aesthetics med \"fast\" værdi\n",
    "\n",
    "De fleste aesthetics fungerer også som argumenter i de enkelte geom funktioner, hvor de kan angives uden for mapping argumentet for at sætte en fast værdi.\n",
    "\n",
    "Bemærk fx at prikkerne i et scatterplot har sort kant, når man farvelægger med fill. Denne kan ændres ved blot at specificere en anden farve i et `colour` argument:"
   ]
  },
  {
   "cell_type": "code",
   "execution_count": null,
   "metadata": {},
   "outputs": [],
   "source": [
    "(ggplot(data = ess2018_filt, mapping = aes(x = 'eduyrs', y = 'grspnum', fill = 'gndr')) \n",
    " + geom_point(colour = 'white'))"
   ]
  },
  {
   "cell_type": "markdown",
   "metadata": {},
   "source": [
    "### Kombinering af aesthetics\n",
    "\n",
    "Det er muligt at kombinere aesthetics i det samme plot. På den måde kan et plot indeholde mange forskellige funktioner:"
   ]
  },
  {
   "cell_type": "code",
   "execution_count": null,
   "metadata": {},
   "outputs": [],
   "source": [
    "(ggplot(data = ess2018_filt, mapping = aes(x = 'eduyrs', y = 'grspnum', fill = 'gndr', shape = 'edlvddk', size = 'netustm')) \n",
    " + geom_point())"
   ]
  },
  {
   "cell_type": "markdown",
   "metadata": {},
   "source": [
    "## Geoms i ggplot/plotnine\n",
    "\n",
    "- Hvad er et geom?\n",
    "- Geom kan ofte bare skiftes ud med samme aesthetics\n",
    "- Flere geoms kan ligge ovenpå hinanden"
   ]
  },
  {
   "cell_type": "markdown",
   "metadata": {},
   "source": [
    "## Tilpasning af plot\n",
    "\n",
    "- Plot kan tilpasses. Dette er ofte en god ide for at forklare, hvad plottet indeholder\n",
    "- Labels\n",
    "- Legend\n",
    "- Temaer\n",
    "- Scales (nævn)"
   ]
  }
 ],
 "metadata": {
  "kernelspec": {
   "display_name": "Python 3",
   "language": "python",
   "name": "python3"
  },
  "language_info": {
   "codemirror_mode": {
    "name": "ipython",
    "version": 3
   },
   "file_extension": ".py",
   "mimetype": "text/x-python",
   "name": "python",
   "nbconvert_exporter": "python",
   "pygments_lexer": "ipython3",
   "version": "3.7.9"
  }
 },
 "nbformat": 4,
 "nbformat_minor": 4
}
