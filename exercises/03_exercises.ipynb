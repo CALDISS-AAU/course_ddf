{
 "cells": [
  {
   "cell_type": "markdown",
   "metadata": {
    "slideshow": {
     "slide_type": "slide"
    }
   },
   "source": [
    "# ØVELSE 0: KAN PYTHON NOGET?\n",
    "\n",
    "- Lav en notebook til denne lektion\n",
    "- Lav en kodecelle\n",
    "- Skriv kommandoen `print(\"hello there\")` ind i cellen\n",
    "- Kør cellen"
   ]
  },
  {
   "cell_type": "markdown",
   "metadata": {
    "slideshow": {
     "slide_type": "slide"
    }
   },
   "source": [
    "# ØVELSE 1: INDLÆS DATA OG INSPICER VARIABLE\n",
    "\n",
    "1. Indlæs datasættet `ESS2018DK_subset.csv` med `pd.read_csv()`, hvis du ikke allerede har gjort det.\n",
    "\n",
    "    - Link til data: https://github.com/CALDISS-AAU/course_ddf/raw/master/datasets/ESS2018DK_subset.csv\n",
    "    \n",
    "2. Tjek at datasættet er indlæst korrekt med `.head()`\n",
    "3. Brug `.value_counts()` til at finde ud af, hvor mange af respondenterne, der har \"Lang videregående uddannelse\" som deres højeste fuldførte uddannelse."
   ]
  },
  {
   "cell_type": "markdown",
   "metadata": {
    "slideshow": {
     "slide_type": "slide"
    }
   },
   "source": [
    "# ØVELSE 2: VISUALISERING AF DATA\n",
    "\n",
    "1. Dan et histogram over variablen `grspnum` (selvrapporteret gennemsnitlig månedlige indkomst)\n",
    "2. Dan et søjlediagram over optællinger over `edlvddk` (højest opnåede uddannelsesniveau)"
   ]
  },
  {
   "cell_type": "markdown",
   "metadata": {
    "slideshow": {
     "slide_type": "slide"
    }
   },
   "source": [
    "# ØVELSE 3: Deskriptive mål\n",
    "\n",
    "1. Brug `.describe()` eller passende metoder til at finde ud af følgende:\n",
    "\n",
    "- Hvor gammel er den yngste person i datasættet?\n",
    "- Hvor gammel er den ældste person i datasættet?\n",
    "- Hvad er gennemsnitsalderen i datasættet?\n",
    "\n",
    "- *Husk at datasættet er fra 2018.*\n",
    "\n",
    "\n",
    "2. Brug `.groupby()` til at finde ud af, om kvinderne eller mændende i datasættet har flest års uddannelse i gennemsnit."
   ]
  },
  {
   "cell_type": "markdown",
   "metadata": {
    "slideshow": {
     "slide_type": "slide"
    }
   },
   "source": [
    "# ØVELSE 4: SUBSETTING\n",
    "\n",
    "*Dan et subset bestående af alle kvinder med en månedlig indkomst over 40.000 (`grspnum`).*"
   ]
  },
  {
   "cell_type": "markdown",
   "metadata": {
    "slideshow": {
     "slide_type": "slide"
    }
   },
   "source": [
    "# ØVELSE 5: BASAL DATAHÅNDTERING\n",
    "\n",
    "1. Tilføj en aldersvariabel til ESS2014DK datasættet (husk at data er fra 2018)\n",
    " \n",
    "2. Dan en kategorisk variabel, der inddeler respondenterne i to lige store kategorier efter antal arbejdstimer om ugen (`wkhtot`)\n",
    "\n",
    "3. Rekod uddannelsesvariablen (`edlvddk`) sådan, at kort, mellemlang og lang videregående uddannelse samt universitetsbachelor alle får værdien \"Videregående uddannelse\" (byg evt. videre på variablen `edlvddk_new`, hvis I allerede har lavet den)."
   ]
  },
  {
   "cell_type": "markdown",
   "metadata": {
    "slideshow": {
     "slide_type": "slide"
    }
   },
   "source": [
    "# ØVELSE 6: Merge af data\n",
    "\n",
    "- Du skal indlæse et nyt datasæt, som indeholder baggrundsoplysninger på respondenterne: \"ESS2018DK_bcg-subset_raw.csv\".\n",
    "    - Link: \"https://github.com/CALDISS-AAU/course_ddf/raw/master/datasets/ESS2018DK_bcg-subset_raw.csv\"\n",
    "    \n",
    "- Inspicér datasættet - kan det sættes sammen med det andet ESS2018 datasæt, som vi har arbejdet med?\n",
    "\n",
    "- Foretag den korrekte join operation for at sammensætte de to datasæt"
   ]
  }
 ],
 "metadata": {
  "kernelspec": {
   "display_name": "Python 3",
   "language": "python",
   "name": "python3"
  },
  "language_info": {
   "codemirror_mode": {
    "name": "ipython",
    "version": 3
   },
   "file_extension": ".py",
   "mimetype": "text/x-python",
   "name": "python",
   "nbconvert_exporter": "python",
   "pygments_lexer": "ipython3",
   "version": "3.7.9"
  },
  "toc-autonumbering": false,
  "toc-showcode": false,
  "toc-showtags": false
 },
 "nbformat": 4,
 "nbformat_minor": 5
}
