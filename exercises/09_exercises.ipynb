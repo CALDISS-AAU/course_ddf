{
 "cells": [
  {
   "cell_type": "markdown",
   "id": "377725f5",
   "metadata": {
    "slideshow": {
     "slide_type": "slide"
    }
   },
   "source": [
    "# ØVELSE 1: Sentiment Analysis\n",
    "\n",
    "Foretag sentiment analysis enten på eget data eller på r/Denmark data: [reddit_rdenmark-comments_01032021-08032021_long.csv](https://raw.githubusercontent.com/CALDISS-AAU/course_ddf/master/datasets/reddit_rdenmark-comments_01032021-08032021_long.csv)\n",
    "\n",
    "(DaCy/senda for dansk, TextBlob for engelsk)\n",
    "\n",
    "**Bemærk:** Sentiment analysis med især DaCy kan tage lang tid på større datasæt. I kan med fordel arbejde med et subset i denne øvelse, for at teste funktionerne af.\n",
    "\n",
    "1. Anvend sentiment analysis på enkelte tekststykker\n",
    "2. Anvend sentiment analysis på hele datasæt eller subset\n",
    "3. Foretag opsummering af datasæt/subset, der giver indikation af, hvorvidt tonen i materialet er overvejende positiv eller negativ"
   ]
  },
  {
   "cell_type": "markdown",
   "id": "424ed419",
   "metadata": {
    "slideshow": {
     "slide_type": "slide"
    }
   },
   "source": [
    "# ØVELSE 2: Topic models i Python (reddit data)\n",
    "\n",
    "I skal nu selv lave en topic model for. I kan enten arbejde med egne data eller reddit kommentarerne fra r/denmark datasættet: [reddit_rdenmark-comments_01032021-08032021_long_tokenized.csv](https://raw.githubusercontent.com/CALDISS-AAU/course_ddf/master/datasets/reddit_rdenmark-comments_01032021-08032021_long_tokenized.csv).\n",
    "\n",
    "1. Tokenize data, hvis ikke det allerede er tokenized (dette blev gennemgået i lektion 5)\n",
    "2. Dan et \"gensim corpus\" ud fra lister af tokens i data\n",
    "2. Dan en topic model over tekstdata (bestem selv antal topics)\n",
    "3. Inspicér de mest sandsynlige ord i hvert topic (`lda_model.show_topics(formatted=False)`)\n",
    "4. Hvad kan I bruge modellen til?\n",
    "\n",
    "**Hint:** I reddit datasættet er kommentarer allerede tokenized (kolonnen \"tokens\"). Tokens er gemt som lister af tokens, men for at Python kan læse dem som liste, skal I bruge `ast.literaL_eval` funktionen."
   ]
  }
 ],
 "metadata": {
  "kernelspec": {
   "display_name": "Python 3 (ipykernel)",
   "language": "python",
   "name": "python3"
  },
  "language_info": {
   "codemirror_mode": {
    "name": "ipython",
    "version": 3
   },
   "file_extension": ".py",
   "mimetype": "text/x-python",
   "name": "python",
   "nbconvert_exporter": "python",
   "pygments_lexer": "ipython3",
   "version": "3.7.9"
  }
 },
 "nbformat": 4,
 "nbformat_minor": 5
}
