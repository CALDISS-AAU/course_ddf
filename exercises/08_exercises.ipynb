{
 "cells": [
  {
   "cell_type": "markdown",
   "metadata": {
    "slideshow": {
     "slide_type": "slide"
    }
   },
   "source": [
    "# ØVELSE 1: VISUALISERING MED PLOTNINE\n",
    "\n",
    "- Brug `ggplot()` og `geom_bar()` til at danne et søjediagram over fordelingen af stemmer på de forskellige partier (\"prtvtddk\").\n",
    "\n",
    "- Inddel optællingerne i køn (\"gndr\") ved at mappe det til et `fill` aesthetic.\n",
    "\n",
    "- `geom_bar()` danner som standard en \"stacked bar chart\" . Dette kan ændres med argumentet \"position\". Prøv at skifte mellem \"stack\", \"dodge\", \"fill\" som værdi for \"position\"-argumentet.\n",
    "\n",
    "**Bonus**\n",
    "- Tilføj mere sigende titler og labels til din graf"
   ]
  },
  {
   "cell_type": "markdown",
   "metadata": {
    "slideshow": {
     "slide_type": "slide"
    }
   },
   "source": [
    "# ØVELSE 2: VISUALISERING AF FORDELINGER\n",
    "\n",
    "Vi ønsker at undersøge forskelle i fordelingen i indkomst mellem mænd og kvinder i datasættet (`grspnum`). \n",
    "\n",
    "Lav en passende visualisering til at udforske dette.\n",
    "\n",
    "**Bonus øvelse**\n",
    "\n",
    "Udforsk fordeling i indkomst mellem aldersgrupper, som du selv danner ud fra `yrbrn`."
   ]
  },
  {
   "cell_type": "markdown",
   "metadata": {
    "slideshow": {
     "slide_type": "slide"
    }
   },
   "source": [
    "# ØVELSE 3: KORRELATIONER\n",
    "\n",
    "Vi ønsker at udforske sammenhængen mellem kommentaraktivitet \"post_num_comments\" og score for et redditopslag (\"post_score\") i datasættet [reddit_rdenmark-comments_01032021-08032021_long.csv](https://raw.githubusercontent.com/CALDISS-AAU/course_ddf/master/datasets/reddit_rdenmark-comments_01032021-08032021_long.csv).\n",
    "\n",
    "Lav en passende visualisering til at udforske dette.\n",
    "\n",
    "Bemærk!: Rækkerne i data er kommentarer, hvor information om opslaget, som kommentaren er under, ligger i kolonner med præfix \"post_\". Derfor er informationen om opslaget gentaget for hver række. I bør derfor filtrere data sådan, at I kun har én række per opslag, inden I laver visualiseringen (se metoden `drop_duplicates`: https://pandas.pydata.org/pandas-docs/stable/reference/api/pandas.DataFrame.drop_duplicates.html). Opslaget kan unikt identificeres med kolonnen \"post_id\"."
   ]
  },
  {
   "cell_type": "markdown",
   "metadata": {
    "slideshow": {
     "slide_type": "slide"
    }
   },
   "source": [
    "# ØVELSE 4: TIDSSERIER\n",
    "\n",
    "Vi ønsker at udforske kommentaraktivitet over tid i datasættet [reddit_rdenmark-comments_01032021-08032021_long.csv](https://raw.githubusercontent.com/CALDISS-AAU/course_ddf/master/datasets/reddit_rdenmark-comments_01032021-08032021_long.csv).\n",
    "\n",
    "Lav en passende visualisering til at udforske dette.\n",
    "\n",
    "**Hints:**\n",
    "- Tidspunkt for kommentar er i \"comment_created_utc\". Denne er dog angivet som UTC timestamp. I kan konvertere til datetime med: `reddit['comment_created_utc'] = pd.to_datetime(reddit['comment_created_utc'], unit='s')`\n",
    "- Tænk i groupbys: hvilken passende tidsenhed giver mening at opsummere data efter?"
   ]
  }
 ],
 "metadata": {
  "kernelspec": {
   "display_name": "Python 3",
   "language": "python",
   "name": "python3"
  },
  "language_info": {
   "codemirror_mode": {
    "name": "ipython",
    "version": 3
   },
   "file_extension": ".py",
   "mimetype": "text/x-python",
   "name": "python",
   "nbconvert_exporter": "python",
   "pygments_lexer": "ipython3",
   "version": "3.7.9"
  }
 },
 "nbformat": 4,
 "nbformat_minor": 4
}
